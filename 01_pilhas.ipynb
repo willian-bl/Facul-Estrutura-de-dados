{
 "cells": [
  {
   "attachments": {},
   "cell_type": "markdown",
   "metadata": {},
   "source": [
    "# Pilhas"
   ]
  },
  {
   "attachments": {},
   "cell_type": "markdown",
   "metadata": {},
   "source": [
    "## Funções primitivas de pilha"
   ]
  },
  {
   "cell_type": "code",
   "execution_count": 1,
   "metadata": {},
   "outputs": [
    {
     "name": "stdout",
     "output_type": "stream",
     "text": [
      "Valor desempilhado da pilha p: 3\n"
     ]
    }
   ],
   "source": [
    "# funcoes primitivas para manipulacao de pilha\n",
    "\n",
    "def push(p, v):\n",
    "    \"\"\"Coloca um valor no topo da pilha\"\"\"\n",
    "    # p representa a pilha (utilizamos uma lista para representar) e v o valor a ser inserido\n",
    "    p.append(v)\n",
    "\n",
    "\n",
    "def pop(p):\n",
    "    \"\"\"Retira um valor do topo da pilha\"\"\"\n",
    "    return p.pop()\n",
    "\n",
    "\n",
    "def vazia(p):\n",
    "    \"\"\"Verifica se a pilha está vazia ou não. Caso esteja, retorna `True`\"\"\"\n",
    "    return False if p else True\n",
    "\n",
    "# testar as funções\n",
    "# empilhar os números 1, 2 e 3\n",
    "\n",
    "# declarar p como uma pilha vazia\n",
    "p=[]\n",
    "# empilhar os elementos\n",
    "push(p,1)\n",
    "push(p,2)\n",
    "push(p,3)\n",
    "# desempilhar um elemento\n",
    "x=pop(p)\n",
    "print(f'Valor desempilhado da pilha p: {x}')"
   ]
  },
  {
   "attachments": {},
   "cell_type": "markdown",
   "metadata": {},
   "source": [
    "## Exercícios"
   ]
  },
  {
   "attachments": {},
   "cell_type": "markdown",
   "metadata": {},
   "source": [
    "Treinando o uso de listas e criando outras funções que serão úteis para trabalhar com essa estrutura de dados"
   ]
  },
  {
   "attachments": {},
   "cell_type": "markdown",
   "metadata": {},
   "source": [
    "### `1.` Criar uma função que mostra o conteúdo de uma pilha, na ordem em que os elementos foram inseridos (Da base para o topo) e mantendo os elementos na pilha original"
   ]
  },
  {
   "cell_type": "code",
   "execution_count": 2,
   "metadata": {},
   "outputs": [
    {
     "name": "stdout",
     "output_type": "stream",
     "text": [
      "1\n",
      "2\n",
      "3\n"
     ]
    }
   ],
   "source": [
    "def mostraPilha(p):\n",
    "    \"\"\"\n",
    "    A função mostrapilha tem como objetivo mostrar o conteudo da \\n\n",
    "    pilha p (passada como parâmetro) utilizando as funções primitivas \\n\n",
    "    para manipulação de pilha.\n",
    "    \"\"\"\n",
    "\n",
    "    if vazia(p):\n",
    "        print('Pilha vazia!')\n",
    "        return\n",
    "\n",
    "    aux = [] # Para a elaboração da função precisa-se de uma pilha auxiliar\n",
    "    while not vazia(p): # enquanto a pilha p não estiver vazia\n",
    "        v = pop(p) # retirar o elemento do topo da pilha P\n",
    "        push(aux, v) # colocar o elemento na pilha auxiliar\n",
    "    \n",
    "    while not vazia(aux):   # retornar os elementos da pilha auxiliar\n",
    "        v = pop(aux)        # para a pilha P\n",
    "        print(v)            # mostrar os elementos na ordem de inserção\n",
    "        push(p, v)\n",
    "\n",
    "# Testando a função\n",
    "pilha = []\n",
    "push(pilha, 1)\n",
    "push(pilha, 2)\n",
    "push(pilha, 3)\n",
    "\n",
    "mostraPilha(pilha)"
   ]
  },
  {
   "attachments": {},
   "cell_type": "markdown",
   "metadata": {},
   "source": [
    "### `2.` Escrever uma função para retornar a quantidade de valores armazenados em uma pilha (utilizar a função `mostraPilha` como modelo para a resolução do exercício)"
   ]
  },
  {
   "cell_type": "code",
   "execution_count": 3,
   "metadata": {},
   "outputs": [
    {
     "data": {
      "text/plain": [
       "5"
      ]
     },
     "execution_count": 3,
     "metadata": {},
     "output_type": "execute_result"
    }
   ],
   "source": [
    "def quantidadePilha(p):\n",
    "    \"\"\"\n",
    "    A função quantidadePilha tem como objetivo contar a quantidade de valores armazenados \\n\n",
    "    em uma pilha p (passada como parâmetro) utilizando as funções primitivas \\n\n",
    "    para manipulação de pilha e mantendo os elementos na pilha original\n",
    "    \"\"\"\n",
    "\n",
    "    aux = [] # Para a elaboração da função precisa-se de uma pilha auxiliar\n",
    "    qe = 0  # E de um contador\n",
    "    while not vazia(p): # enquanto a pilha p não estiver vazia\n",
    "        v = pop(p) # retirar o elemento do topo da pilha P\n",
    "        push(aux, v) # colocar o elemento na pilha auxiliar\n",
    "    \n",
    "    while not vazia(aux):   # retornar os elementos da pilha auxiliar\n",
    "        v = pop(aux)        # para a pilha P\n",
    "        qe += 1      # e contar os elementos equanto isso é feito\n",
    "        push(p, v)\n",
    "    \n",
    "    return qe\n",
    "\n",
    "# Testando a função\n",
    "pilha = []\n",
    "push(pilha, 1)\n",
    "push(pilha, 2)\n",
    "push(pilha, 3)\n",
    "push(pilha, 2)\n",
    "push(pilha, 1)\n",
    "\n",
    "quantidadePilha(pilha)"
   ]
  },
  {
   "attachments": {},
   "cell_type": "markdown",
   "metadata": {},
   "source": [
    "### `3.` Escrever uma função para retirar o primeiro elemento que foi incluído na pilha"
   ]
  },
  {
   "cell_type": "code",
   "execution_count": 4,
   "metadata": {},
   "outputs": [
    {
     "name": "stdout",
     "output_type": "stream",
     "text": [
      "Quantidade de elementos da pilha antes:  5\n",
      "Elementos:\n",
      "1\n",
      "2\n",
      "3\n",
      "4\n",
      "5\n",
      "------------------------------------------------\n",
      "Primeiro da pilha retirado:  1\n",
      "------------------------------------------------\n",
      "Quantidade de elementos da pilha depois:  4\n",
      "Elementos:\n",
      "2\n",
      "3\n",
      "4\n",
      "5\n"
     ]
    }
   ],
   "source": [
    "def retiraPrimeiro(p):\n",
    "    \"\"\"\n",
    "    Função para retirar o primeiro valor inserido em uma lista \\n\n",
    "    Passa todos os elementos para uma pilha auxiliar, depois dá um pop nessa pilha \\n\n",
    "    e retorna os elementos restantes para a pilha, sem o primeiro.\n",
    "    \"\"\"\n",
    "    \n",
    "    aux = []\n",
    "    \n",
    "    if vazia(p):  # Verifica se a pilha está vazia, pois se estiver não tem nada para retirar\n",
    "        print('Pilha vazia')\n",
    "        return\n",
    "\n",
    "    while not vazia(p):     # Coloca os elementos da pilha p em uma pilha auxiliar, pois assim os elementos na pilha auxiliar\n",
    "        push(aux, pop(p))   # estarão na ordem inversa aos da pilha p, sendo que o primeiro elemento colocado em p será o elemento\n",
    "                            # do topo de aux, ao qual temos acesso.\n",
    "    \n",
    "    primeiro = pop(aux)  # Agora, retira o elemento do topo da pilha auxiliar\n",
    "\n",
    "    while not vazia(aux):   # Por fim, retornamos os elementos de auxiliar para p, mas sem o primeiro valor, que demos\n",
    "        push(p, pop(aux))   # o pop antes\n",
    "        \n",
    "    return primeiro\n",
    "\n",
    "# Testando a função\n",
    "pilha = []\n",
    "push(pilha, 1)\n",
    "push(pilha, 2)\n",
    "push(pilha, 3)\n",
    "push(pilha, 4)\n",
    "push(pilha, 5)\n",
    "\n",
    "print('Quantidade de elementos da pilha antes: ', quantidadePilha(pilha))\n",
    "print('Elementos:')\n",
    "mostraPilha(pilha)\n",
    "print('------------------------------------------------')\n",
    "\n",
    "prim = retiraPrimeiro(pilha)\n",
    "print('Primeiro da pilha retirado: ', prim)\n",
    "\n",
    "print('------------------------------------------------')\n",
    "print('Quantidade de elementos da pilha depois: ', quantidadePilha(pilha))\n",
    "print('Elementos:')\n",
    "mostraPilha(pilha)\n"
   ]
  },
  {
   "attachments": {},
   "cell_type": "markdown",
   "metadata": {},
   "source": [
    "### `4.`Escrever uma função denominada de `copiaPilha(p1, p2)`. Essa função copia os elementos da pilha p1 para a pilha p2"
   ]
  },
  {
   "cell_type": "code",
   "execution_count": 5,
   "metadata": {},
   "outputs": [
    {
     "name": "stdout",
     "output_type": "stream",
     "text": [
      "Pilha1: \n",
      "10\n",
      "20\n",
      "30\n",
      "40\n",
      "\n",
      "Pilha2: \n",
      "Pilha vazia!\n",
      "\n",
      "----------------------------------------- \n",
      "Depois da cópia: \n",
      "Pilha1:\n",
      "10\n",
      "20\n",
      "30\n",
      "40\n",
      "\n",
      "Pilha2: \n",
      "10\n",
      "20\n",
      "30\n",
      "40\n"
     ]
    }
   ],
   "source": [
    "def copiaPilha(p1, p2):\n",
    "    \n",
    "    aux = []\n",
    "\n",
    "    while not vazia(p1):  # Retira os elementos da pilha p1 e coloca na pilha auxiliar\n",
    "        push(aux, pop(p1))\n",
    "\n",
    "    while not vazia(aux):  \n",
    "        v = pop(aux)    # Agora, retira os elementos da pilha auxiliar e coloca\n",
    "        push(p1, v)     # tanto na pilha p1\n",
    "        push(p2, v)     # quanto na pilha p2\n",
    "\n",
    "pilha1 = []\n",
    "push(pilha1, 10)\n",
    "push(pilha1, 20)\n",
    "push(pilha1, 30)\n",
    "push(pilha1, 40)\n",
    "\n",
    "print('Pilha1: ')\n",
    "mostraPilha(pilha1)\n",
    "\n",
    "print('\\nPilha2: ')\n",
    "pilha2 = []\n",
    "mostraPilha(pilha2)\n",
    "\n",
    "copiaPilha(pilha1, pilha2)\n",
    "\n",
    "print('\\n----------------------------------------- \\nDepois da cópia: \\nPilha1:')\n",
    "mostraPilha(pilha1)\n",
    "\n",
    "print('\\nPilha2: ')\n",
    "mostraPilha(pilha2)\n"
   ]
  }
 ],
 "metadata": {
  "kernelspec": {
   "display_name": "Python 3",
   "language": "python",
   "name": "python3"
  },
  "language_info": {
   "codemirror_mode": {
    "name": "ipython",
    "version": 3
   },
   "file_extension": ".py",
   "mimetype": "text/x-python",
   "name": "python",
   "nbconvert_exporter": "python",
   "pygments_lexer": "ipython3",
   "version": "3.10.6"
  },
  "orig_nbformat": 4,
  "vscode": {
   "interpreter": {
    "hash": "9a5507c129a05bfdc77ef541b8cef54ca34be21723ca2ada5f657bc6ecbd397c"
   }
  }
 },
 "nbformat": 4,
 "nbformat_minor": 2
}
