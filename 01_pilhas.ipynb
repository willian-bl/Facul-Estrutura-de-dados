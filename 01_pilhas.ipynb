{
 "cells": [
  {
   "attachments": {},
   "cell_type": "markdown",
   "metadata": {},
   "source": [
    "> # Pilhas\n",
    "---"
   ]
  },
  {
   "attachments": {},
   "cell_type": "markdown",
   "metadata": {},
   "source": [
    "## Funções primitivas de pilha"
   ]
  },
  {
   "cell_type": "code",
   "execution_count": 13,
   "metadata": {},
   "outputs": [
    {
     "name": "stdout",
     "output_type": "stream",
     "text": [
      "Valor desempilhado da pilha p: 3\n"
     ]
    }
   ],
   "source": [
    "# funcoes primitivas para manipulacao de pilha\n",
    "\n",
    "def push(p, v):\n",
    "    \"\"\"Coloca um valor no topo da pilha\"\"\"\n",
    "    # p representa a pilha (utilizamos uma lista para representar) e v o valor a ser inserido\n",
    "    p.append(v)\n",
    "\n",
    "\n",
    "def pop(p):\n",
    "    \"\"\"Retira um valor do topo da pilha\"\"\"\n",
    "    return p.pop()\n",
    "\n",
    "\n",
    "def vazia(p):\n",
    "    \"\"\"Verifica se a pilha está vazia ou não. Caso esteja, retorna `True`\"\"\"\n",
    "    return False if p else True\n",
    "\n",
    "# testar as funções\n",
    "# empilhar os números 1, 2 e 3\n",
    "\n",
    "# declarar p como uma pilha vazia\n",
    "p=[]\n",
    "# empilhar os elementos\n",
    "push(p,1)\n",
    "push(p,2)\n",
    "push(p,3)\n",
    "# desempilhar um elemento\n",
    "x=pop(p)\n",
    "print(f'Valor desempilhado da pilha p: {x}')"
   ]
  },
  {
   "attachments": {},
   "cell_type": "markdown",
   "metadata": {},
   "source": [
    "## Exercícios"
   ]
  },
  {
   "attachments": {},
   "cell_type": "markdown",
   "metadata": {},
   "source": [
    "Treinando o uso de pilhas e criando outras funções que serão úteis para trabalhar com essa estrutura de dados"
   ]
  },
  {
   "attachments": {},
   "cell_type": "markdown",
   "metadata": {},
   "source": [
    "### `1.` Criar uma função que mostra o conteúdo de uma pilha, na ordem em que os elementos foram inseridos (Da base para o topo) e mantendo os elementos na pilha original"
   ]
  },
  {
   "cell_type": "code",
   "execution_count": 14,
   "metadata": {},
   "outputs": [
    {
     "name": "stdout",
     "output_type": "stream",
     "text": [
      "1\n",
      "2\n",
      "3\n"
     ]
    }
   ],
   "source": [
    "def mostraPilha(p):\n",
    "    \"\"\"\n",
    "    A função mostrapilha tem como objetivo mostrar o conteudo da \\n\n",
    "    pilha p (passada como parâmetro) utilizando as funções primitivas \\n\n",
    "    para manipulação de pilha.\n",
    "    \"\"\"\n",
    "\n",
    "    if vazia(p):\n",
    "        print('Pilha vazia!')\n",
    "        return\n",
    "\n",
    "    aux = [] # Para a elaboração da função precisa-se de uma pilha auxiliar\n",
    "    while not vazia(p): # enquanto a pilha p não estiver vazia\n",
    "        v = pop(p) # retirar o elemento do topo da pilha P\n",
    "        push(aux, v) # colocar o elemento na pilha auxiliar\n",
    "    \n",
    "    while not vazia(aux):   # retornar os elementos da pilha auxiliar\n",
    "        v = pop(aux)        # para a pilha P\n",
    "        print(v)            # mostrar os elementos na ordem de inserção\n",
    "        push(p, v)\n",
    "\n",
    "# Testando a função\n",
    "pilha = []\n",
    "push(pilha, 1)\n",
    "push(pilha, 2)\n",
    "push(pilha, 3)\n",
    "\n",
    "mostraPilha(pilha)"
   ]
  },
  {
   "attachments": {},
   "cell_type": "markdown",
   "metadata": {},
   "source": [
    "### `2.` Escrever uma função para retornar a quantidade de valores armazenados em uma pilha (utilizar a função `mostraPilha` como modelo para a resolução do exercício)"
   ]
  },
  {
   "cell_type": "code",
   "execution_count": 15,
   "metadata": {},
   "outputs": [
    {
     "data": {
      "text/plain": [
       "5"
      ]
     },
     "execution_count": 15,
     "metadata": {},
     "output_type": "execute_result"
    }
   ],
   "source": [
    "def quantidadePilha(p):\n",
    "    \"\"\"\n",
    "    A função quantidadePilha tem como objetivo contar a quantidade de valores armazenados \\n\n",
    "    em uma pilha p (passada como parâmetro) utilizando as funções primitivas \\n\n",
    "    para manipulação de pilha e mantendo os elementos na pilha original\n",
    "    \"\"\"\n",
    "\n",
    "    aux = [] # Para a elaboração da função precisa-se de uma pilha auxiliar\n",
    "    qe = 0  # E de um contador\n",
    "    while not vazia(p): # enquanto a pilha p não estiver vazia\n",
    "        v = pop(p) # retirar o elemento do topo da pilha P\n",
    "        push(aux, v) # colocar o elemento na pilha auxiliar\n",
    "    \n",
    "    while not vazia(aux):   # retornar os elementos da pilha auxiliar\n",
    "        v = pop(aux)        # para a pilha P\n",
    "        qe += 1      # e contar os elementos equanto isso é feito\n",
    "        push(p, v)\n",
    "    \n",
    "    return qe\n",
    "\n",
    "# Testando a função\n",
    "pilha = []\n",
    "push(pilha, 1)\n",
    "push(pilha, 2)\n",
    "push(pilha, 3)\n",
    "push(pilha, 2)\n",
    "push(pilha, 1)\n",
    "\n",
    "quantidadePilha(pilha)"
   ]
  },
  {
   "attachments": {},
   "cell_type": "markdown",
   "metadata": {},
   "source": [
    "### `3.` Escrever uma função para retirar o primeiro elemento que foi incluído na pilha"
   ]
  },
  {
   "cell_type": "code",
   "execution_count": 16,
   "metadata": {},
   "outputs": [
    {
     "name": "stdout",
     "output_type": "stream",
     "text": [
      "Quantidade de elementos da pilha antes:  5\n",
      "Elementos:\n",
      "1\n",
      "2\n",
      "3\n",
      "4\n",
      "5\n",
      "------------------------------------------------\n",
      "Primeiro da pilha retirado:  1\n",
      "------------------------------------------------\n",
      "Quantidade de elementos da pilha depois:  4\n",
      "Elementos:\n",
      "2\n",
      "3\n",
      "4\n",
      "5\n"
     ]
    }
   ],
   "source": [
    "def retiraPrimeiro(p):\n",
    "    \"\"\"\n",
    "    Função para retirar o primeiro valor inserido em uma pilha \\n\n",
    "    Passa todos os elementos para uma pilha auxiliar, depois dá um pop nessa pilha \\n\n",
    "    e retorna os elementos restantes para a pilha, sem o primeiro.\n",
    "    \"\"\"\n",
    "    \n",
    "    aux = []\n",
    "    \n",
    "    if vazia(p):  # Verifica se a pilha está vazia, pois se estiver não tem nada para retirar\n",
    "        print('Pilha vazia')\n",
    "        return\n",
    "\n",
    "    while not vazia(p):     # Coloca os elementos da pilha p em uma pilha auxiliar, pois assim os elementos na pilha auxiliar\n",
    "        push(aux, pop(p))   # estarão na ordem inversa aos da pilha p, sendo que o primeiro elemento colocado em p será o elemento\n",
    "                            # do topo de aux, ao qual temos acesso.\n",
    "    \n",
    "    primeiro = pop(aux)  # Agora, retira o elemento do topo da pilha auxiliar\n",
    "\n",
    "    while not vazia(aux):   # Por fim, retornamos os elementos de auxiliar para p, mas sem o primeiro valor, que demos\n",
    "        push(p, pop(aux))   # o pop antes\n",
    "        \n",
    "    return primeiro\n",
    "\n",
    "# Testando a função\n",
    "pilha = []\n",
    "push(pilha, 1)\n",
    "push(pilha, 2)\n",
    "push(pilha, 3)\n",
    "push(pilha, 4)\n",
    "push(pilha, 5)\n",
    "\n",
    "print('Quantidade de elementos da pilha antes: ', quantidadePilha(pilha))\n",
    "print('Elementos:')\n",
    "mostraPilha(pilha)\n",
    "print('------------------------------------------------')\n",
    "\n",
    "prim = retiraPrimeiro(pilha)\n",
    "print('Primeiro da pilha retirado: ', prim)\n",
    "\n",
    "print('------------------------------------------------')\n",
    "print('Quantidade de elementos da pilha depois: ', quantidadePilha(pilha))\n",
    "print('Elementos:')\n",
    "mostraPilha(pilha)\n"
   ]
  },
  {
   "attachments": {},
   "cell_type": "markdown",
   "metadata": {},
   "source": [
    "### `4.`Escrever uma função denominada de `copiaPilha(p1, p2)`. Essa função copia os elementos da pilha p1 para a pilha p2"
   ]
  },
  {
   "cell_type": "code",
   "execution_count": 17,
   "metadata": {},
   "outputs": [
    {
     "name": "stdout",
     "output_type": "stream",
     "text": [
      "Pilha1: \n",
      "10\n",
      "20\n",
      "30\n",
      "40\n",
      "\n",
      "Pilha2: \n",
      "Pilha vazia!\n",
      "\n",
      "----------------------------------------- \n",
      "Depois da cópia: \n",
      "Pilha1:\n",
      "10\n",
      "20\n",
      "30\n",
      "40\n",
      "\n",
      "Pilha2: \n",
      "10\n",
      "20\n",
      "30\n",
      "40\n"
     ]
    }
   ],
   "source": [
    "def copiaPilha(p1, p2):\n",
    "    \n",
    "    aux = []\n",
    "\n",
    "    while not vazia(p1):  # Retira os elementos da pilha p1 e coloca na pilha auxiliar\n",
    "        push(aux, pop(p1))\n",
    "\n",
    "    while not vazia(aux):  \n",
    "        v = pop(aux)    # Agora, retira os elementos da pilha auxiliar e coloca\n",
    "        push(p1, v)     # tanto na pilha p1\n",
    "        push(p2, v)     # quanto na pilha p2\n",
    "\n",
    "pilha1 = []\n",
    "push(pilha1, 10)\n",
    "push(pilha1, 20)\n",
    "push(pilha1, 30)\n",
    "push(pilha1, 40)\n",
    "\n",
    "print('Pilha1: ')\n",
    "mostraPilha(pilha1)\n",
    "\n",
    "print('\\nPilha2: ')\n",
    "pilha2 = []\n",
    "mostraPilha(pilha2)\n",
    "\n",
    "copiaPilha(pilha1, pilha2)\n",
    "\n",
    "print('\\n----------------------------------------- \\nDepois da cópia: \\nPilha1:')\n",
    "mostraPilha(pilha1)\n",
    "\n",
    "print('\\nPilha2: ')\n",
    "mostraPilha(pilha2)\n"
   ]
  },
  {
   "attachments": {},
   "cell_type": "markdown",
   "metadata": {},
   "source": [
    "### `5.` Escrever uma função para comparar duas pilhas e retornar `True` caso ambas sejam iguais (elas devem ser idênticas, com a mesma quantidade de elementos e com os elementos na mesma ordem). Caso contrário, retornar `False`. (Use as outras funções criadas anteriormente)"
   ]
  },
  {
   "cell_type": "code",
   "execution_count": 18,
   "metadata": {},
   "outputs": [
    {
     "name": "stdout",
     "output_type": "stream",
     "text": [
      "Pilha1: \n",
      "20\n",
      "40\n",
      "10\n",
      "80\n",
      "Pilha2: \n",
      "20\n",
      "40\n",
      "60\n",
      "80\n",
      "\n",
      "As pilhas são iguais?  False\n",
      "Pilhas depois da comparação (para ver se os valores foram retornados às pilhas originais): \n",
      "\n",
      "Pilha1: \n",
      "20\n",
      "40\n",
      "10\n",
      "80\n",
      "Pilha2: \n",
      "20\n",
      "40\n",
      "60\n",
      "80\n"
     ]
    }
   ],
   "source": [
    "def pilhas_iguais(p1, p2):\n",
    "    \"\"\"\n",
    "    Compara duas pilhas e retorna True caso elas sejam iguais. \\n\n",
    "    Só retornará True caso as pilhas tenham o mesmo tamanho e os mesmos elementos na mesma ordem.\n",
    "    \"\"\"\n",
    "    \n",
    "    if quantidadePilha(p1) != quantidadePilha(p2):  # Se o tamanho das pilhas não for igual, não precisamos nem comparar,\n",
    "        return False                                # já retornamos false e não fazemos o resto\n",
    "\n",
    "    # Caso o tamanho das pilhas seja igual, fazemos as comparações\n",
    "    p_aux1, p_aux2 = [], []\n",
    "    eh_igual = True  # Começamos assumindo que as pilhas são iguais \n",
    "\n",
    "    # Comparando os valores\n",
    "    while not vazia(p1):  # Como as pilhas tem tamanho igual, quando os elementos da pilha 1 se esgotarem, os da pilha 2 também terão se esgotado\n",
    "        \n",
    "        # Retira das pilhas originais\n",
    "        v1 = pop(p1)\n",
    "        v2 = pop(p2)\n",
    "\n",
    "        # Coloca nas pilhas auxiliares\n",
    "        push(p_aux1, v1)\n",
    "        push(p_aux2, v2)\n",
    "\n",
    "        if v1 != v2:            # Caso o valor retirado de uma pilha seja diferente do valor retirado da outra, as pilhas não são iguais\n",
    "            eh_igual = False    # Mudamos o valor do flag, que foi definido como True por padrão\n",
    "            break               # Não precisamos comparar mais\n",
    "    \n",
    "    # Retornando valores para as pilhas originais\n",
    "    while not vazia(p_aux1):\n",
    "        \n",
    "        # Retira das pilhas auxiliares\n",
    "        v1 = pop(p_aux1)\n",
    "        v2 = pop(p_aux2)\n",
    "\n",
    "        # Coloca nas pilhas originais\n",
    "        push(p1, v1)\n",
    "        push(p2, v2)\n",
    "    \n",
    "    return eh_igual\n",
    "\n",
    "\n",
    "# Teste da função:\n",
    "\n",
    "pilha1 = []\n",
    "push(pilha1, 20)\n",
    "push(pilha1, 40)\n",
    "push(pilha1, 10)\n",
    "push(pilha1, 80)\n",
    "print('Pilha1: ')\n",
    "mostraPilha(pilha1)\n",
    "\n",
    "pilha2 = []\n",
    "push(pilha2, 20)\n",
    "push(pilha2, 40)\n",
    "push(pilha2, 60)\n",
    "push(pilha2, 80)\n",
    "print('Pilha2: ')\n",
    "mostraPilha(pilha2)\n",
    "\n",
    "print('\\nAs pilhas são iguais? ', pilhas_iguais(pilha1, pilha2))\n",
    "print('Pilhas depois da comparação (para ver se os valores foram retornados às pilhas originais): \\n')\n",
    "\n",
    "print('Pilha1: ')\n",
    "mostraPilha(pilha1)\n",
    "print('Pilha2: ')\n",
    "mostraPilha(pilha2)"
   ]
  },
  {
   "attachments": {},
   "cell_type": "markdown",
   "metadata": {},
   "source": [
    "### `6.` Escrever uma função que, passadas duas pilhas de mesmo tamanho, retorne uma terceira pilha com os elementos das duas pilhas intercalados."
   ]
  },
  {
   "cell_type": "code",
   "execution_count": 19,
   "metadata": {},
   "outputs": [
    {
     "name": "stdout",
     "output_type": "stream",
     "text": [
      "Pilha1: \n",
      "1\n",
      "3\n",
      "5\n",
      "7\n",
      "\n",
      "Pilha2: \n",
      "2\n",
      "4\n",
      "6\n",
      "8\n",
      "\n",
      "----------------------------------------- \n",
      "Pilha3 (intercalada): \n",
      "1\n",
      "2\n",
      "3\n",
      "4\n",
      "5\n",
      "6\n",
      "7\n",
      "8\n",
      "\n",
      "Pilha1: \n",
      "1\n",
      "3\n",
      "5\n",
      "7\n",
      "\n",
      "Pilha2: \n",
      "2\n",
      "4\n",
      "6\n",
      "8\n"
     ]
    }
   ],
   "source": [
    "def intercala(p1, p2):\n",
    "    # Para pilhas de mesmo tamanho\n",
    "    \n",
    "    aux1, aux2 = [], []\n",
    "    pilha_inter = []\n",
    "    while not vazia(p1):\n",
    "        push(aux1, pop(p1))\n",
    "        push(aux2, pop(p2))\n",
    "    \n",
    "    while not vazia(aux1):\n",
    "        v1 = pop(aux1)\n",
    "        push(pilha_inter, v1)\n",
    "        push(p1, v1)\n",
    "        \n",
    "        v2 = pop(aux2)\n",
    "        push(pilha_inter, v2)\n",
    "        push(p2, v2)\n",
    "    \n",
    "    return pilha_inter\n",
    "\n",
    "\n",
    "# -------- Testando ---------------------------------------------------------\n",
    "pilha1 = []\n",
    "push(pilha1, 1)\n",
    "push(pilha1, 3)\n",
    "push(pilha1, 5)\n",
    "push(pilha1, 7)\n",
    "print('Pilha1: ')\n",
    "mostraPilha(pilha1)\n",
    "\n",
    "pilha2 = []\n",
    "push(pilha2, 2)\n",
    "push(pilha2, 4)\n",
    "push(pilha2, 6)\n",
    "push(pilha2, 8)\n",
    "print('\\nPilha2: ')\n",
    "mostraPilha(pilha2)\n",
    "\n",
    "pilha3 = intercala(pilha1, pilha2)\n",
    "print('\\n----------------------------------------- \\nPilha3 (intercalada): ')\n",
    "mostraPilha(pilha3)\n",
    "\n",
    "print('\\nPilha1: ')\n",
    "mostraPilha(pilha1)\n",
    "print('\\nPilha2: ')\n",
    "mostraPilha(pilha2)"
   ]
  },
  {
   "attachments": {},
   "cell_type": "markdown",
   "metadata": {},
   "source": [
    "### `7.` Fazer o mesmo que o exercício anterior (intercalar duas pilhas passadas e retornar uma terceira pilha como resultado), mas agora para pilhas de tamanhos diferentes (as pilhas podem estar vazias, ter o mesmo tamanho ou ter tamanhos diferentes)"
   ]
  },
  {
   "cell_type": "code",
   "execution_count": 20,
   "metadata": {},
   "outputs": [
    {
     "name": "stdout",
     "output_type": "stream",
     "text": [
      "Pilha1: \n",
      "1\n",
      "3\n",
      "5\n",
      "7\n",
      "9\n",
      "11\n",
      "13\n",
      "\n",
      "Pilha2: \n",
      "2\n",
      "4\n",
      "6\n",
      "8\n",
      "\n",
      "----------------------------------------- \n",
      "Pilha3 (intercalada): \n",
      "1\n",
      "2\n",
      "3\n",
      "4\n",
      "5\n",
      "6\n",
      "7\n",
      "8\n",
      "9\n",
      "11\n",
      "13\n",
      "\n",
      "Pilha1: \n",
      "1\n",
      "3\n",
      "5\n",
      "7\n",
      "9\n",
      "11\n",
      "13\n",
      "\n",
      "Pilha2: \n",
      "2\n",
      "4\n",
      "6\n",
      "8\n"
     ]
    }
   ],
   "source": [
    "def intercala_dif(p1, p2):\n",
    "    # Para pilhas de tamanhos diferentes\n",
    "    \n",
    "    aux1, aux2 = [], []\n",
    "    pilha_inter = []\n",
    "\n",
    "    # Jogando valores nas listas auxiliares\n",
    "    while not vazia(p1):\n",
    "        push(aux1, pop(p1))\n",
    "\n",
    "    while not vazia(p2):\n",
    "        push(aux2, pop(p2))\n",
    "\n",
    "    # Jogando valores na pilha intercalada\n",
    "    while not vazia(aux1) and not vazia(aux2):\n",
    "        v1 = pop(aux1)\n",
    "        push(p1, v1)\n",
    "        push(pilha_inter, v1)\n",
    "\n",
    "        v2 = pop(aux2)\n",
    "        push(p2, v2)\n",
    "        push(pilha_inter, v2)\n",
    "\n",
    "    if vazia(aux1):\n",
    "        while not vazia(aux2):\n",
    "            v2 = pop(aux2)\n",
    "            push(p2, v2)\n",
    "            push(pilha_inter, v2)\n",
    "    \n",
    "    elif vazia(aux2):\n",
    "        while not vazia(aux1):\n",
    "            v1 = pop(aux1)\n",
    "            push(p1, v1)\n",
    "            push(pilha_inter, v1)\n",
    "\n",
    "    return pilha_inter\n",
    "\n",
    "# -------- Testando ---------------------------------------------------------\n",
    "pilha1 = []\n",
    "push(pilha1, 1)\n",
    "push(pilha1, 3)\n",
    "push(pilha1, 5)\n",
    "push(pilha1, 7)\n",
    "push(pilha1, 9)\n",
    "push(pilha1, 11)\n",
    "push(pilha1, 13)\n",
    "print('Pilha1: ')\n",
    "mostraPilha(pilha1)\n",
    "\n",
    "pilha2 = []\n",
    "push(pilha2, 2)\n",
    "push(pilha2, 4)\n",
    "push(pilha2, 6)\n",
    "push(pilha2, 8)\n",
    "print('\\nPilha2: ')\n",
    "mostraPilha(pilha2)\n",
    "\n",
    "pilha3 = intercala_dif(pilha1, pilha2)\n",
    "print('\\n----------------------------------------- \\nPilha3 (intercalada): ')\n",
    "mostraPilha(pilha3)\n",
    "\n",
    "print('\\nPilha1: ')\n",
    "mostraPilha(pilha1)\n",
    "print('\\nPilha2: ')\n",
    "mostraPilha(pilha2)"
   ]
  },
  {
   "attachments": {},
   "cell_type": "markdown",
   "metadata": {},
   "source": [
    "### `8.` Escreva uma funcionalidade em python para determinar se uma string de caracteres de entrada é da forma: xCy onde x é uma string consistindo nas letras 'A' e 'B', e y é o inverso de x (isto é, se x = \"ABABBA\", y deve equivaler a \"ABBABA\"). "
   ]
  },
  {
   "cell_type": "code",
   "execution_count": 21,
   "metadata": {},
   "outputs": [
    {
     "name": "stdout",
     "output_type": "stream",
     "text": [
      "Cadeia é do formato desejado? True\n"
     ]
    }
   ],
   "source": [
    "def cadeia_valida(cadeia):\n",
    "    \"\"\"Verifica se a cadeia é válida\"\"\"\n",
    "    if cadeia.count('C') != 1:   # Verifica se a string só tem um \"C\"\n",
    "        return False\n",
    "\n",
    "    for char in cadeia:\n",
    "        if char != 'A' and char != 'B' and char != 'C':  # Verifica se a string é formada somente pelos caracteres a, b e c\n",
    "            return False\n",
    "\n",
    "    return True\n",
    "\n",
    "\n",
    "def formato_correto(cadeia):\n",
    "    if not cadeia_valida(cadeia):\n",
    "        print('A cadeia passada como entrada não é válida. Verifique a estrutura da cadeia!')\n",
    "        return False\n",
    "\n",
    "    x = []  # Inicia a pilha -> x é uma pilha\n",
    "    for i in range(len(cadeia)):  # Itera pelos caracteres da string\n",
    "        char = cadeia[i]  \n",
    "        if char != 'C':  # Se não for o C\n",
    "            push(x, char)  # Adiciona na pilha x. A sequencia fica na ordem inversa\n",
    "        else:\n",
    "            break  # Se for o C, para e verifica a segunda parte da sequencia\n",
    "    \n",
    "    y = cadeia[i+1:]    # O for terá saído no indice i, que é o caractere \"C\", então a outra parte da sequência (y) começa em i+1\n",
    "                        # Então fazemos um recorte da segunda parte da sequência (y é uma string)\n",
    "\n",
    "    for y_char in y:        # Para cada caractere em y\n",
    "        if vazia(x):        # se a pilha x estiver vazia e o loop for iniciou, quer dizer que x está vazio e y tem caracter\n",
    "            return False    # ou seja, as duas partes da sequência são de tamanho diferente, então não é o que queremos\n",
    "        \n",
    "        x_char = pop(x)         # Se x não estiver vazio\n",
    "        if x_char != y_char:    # Compara o caractere de x com y (x já está na ordem inversa)\n",
    "            return False        # Se os caracteres forem diferentes, não é no formato que definimos\n",
    "    \n",
    "    if not vazia(x):    # Depois que o for acabar, se a pilha x não estiver vazia, quer dizer que a quantidade de elementos entre\n",
    "        return False    # x e y é diferente, então não é o que queremos\n",
    "    \n",
    "    return True  # Se, finalmente, o código chegar aqui, quer dizer que o formato está validado e é o que queremos\n",
    "\n",
    "\n",
    "# entrada = input('Digite a cadeia de caracteres: ')  # String = cadeia de caracteres\n",
    "entrada = \"ABBCBBA\" \n",
    "entrada = entrada.upper()\n",
    "\n",
    "cadeia_formatada = formato_correto(entrada)\n",
    "\n",
    "print('Cadeia é do formato desejado?', cadeia_formatada)"
   ]
  },
  {
   "attachments": {},
   "cell_type": "markdown",
   "metadata": {},
   "source": [
    "### `9.` Escreva um código, usando pilhas, que calcule o resultado de uma expressão pósfixa\n",
    "`OBS:` Só serão usados números de 0 a 9 na expressão, ou seja, números com um único algarismo"
   ]
  },
  {
   "attachments": {},
   "cell_type": "markdown",
   "metadata": {},
   "source": [
    "#### `Algoritmo:` O Algoritmo para calcular uma expressão pósfixa pode ser entendido como:\n",
    "\n",
    "1.  Para cada operando obtido da expressão pósfixa nós o colocamos em uma pilha.\n",
    "2.  Quando encontramos um operador na expressão pósfixa, retiramos dois operandos da pilha, aplicamos a operação e colocamos o resultado de volta na pilha\n",
    "3.  Quando todos os elementos da notação pósfixa tiverem acabado, teremos o resultado como único elemento da nossa pilha"
   ]
  },
  {
   "cell_type": "code",
   "execution_count": 22,
   "metadata": {},
   "outputs": [
    {
     "name": "stdout",
     "output_type": "stream",
     "text": [
      "O resultado do cálculo da expressão pósfixa passada é: 19.0\n"
     ]
    }
   ],
   "source": [
    "def calcPosfixa(epos:str='') -> float:\n",
    "    \"\"\"\n",
    "    Passada uma string com uma expressão pósfixa, calcula o resultado dessa expressão, utilizando pilhas \\n\n",
    "    `param:` epos - Expressão pósfixa (string) \n",
    "    `return:` Resultado da operação (float) \\n\n",
    "    Operadores suportados: +, -, *, /, $ (Este último sendo o operador de potenciação: `2³ == 2$3`)\n",
    "    \"\"\"\n",
    "\n",
    "    operadores = ['+', '-', '*', '/', '$']\n",
    "    pilha = []\n",
    "\n",
    "    for crt in epos:\n",
    "        if crt.isdigit():\n",
    "            push(pilha, float(crt))\n",
    "\n",
    "        elif crt in operadores:\n",
    "            operando_2 = pop(pilha)\n",
    "            operando_1 = pop(pilha)\n",
    "\n",
    "            if crt == '+':\n",
    "                result = operando_1 + operando_2\n",
    "            elif crt == '-':\n",
    "                result = operando_1 - operando_2\n",
    "            elif crt == '*':\n",
    "                result = operando_1 * operando_2\n",
    "            elif crt == '/':\n",
    "                result = operando_1 / operando_2\n",
    "            elif crt == '$':\n",
    "                result = operando_1 ** operando_2\n",
    "            \n",
    "            push(pilha, result)\n",
    "    \n",
    "    return pop(pilha)\n",
    "\n",
    "entrada = '328*+'  # Resultado tem que dar 19\n",
    "# entrada = input('Digite a expressão pósfixa: ')\n",
    "r = calcPosfixa(entrada)\n",
    "print(f'O resultado do cálculo da expressão pósfixa passada é: {r}')"
   ]
  },
  {
   "attachments": {},
   "cell_type": "markdown",
   "metadata": {},
   "source": [
    "### `10.` Escreva um código, usando pilhas, que converta uma expressão infixa em pósfixa\n",
    "`OBS:` Só serão usados números de 0 a 9 na expressão e a expressão não terá parênteses. Só usaremos os operadores +, -, *, /"
   ]
  },
  {
   "attachments": {},
   "cell_type": "markdown",
   "metadata": {},
   "source": [
    "Na expressão infixa e pósfixa os OPERANDOS sempre aparecem na mesma ordem. Então sempre que aparece um operando, já adicionamos ele no nosso resultado final. <br>\n",
    "Agora, caso apareça um operador, devemos guardá-lo e testar com os próximos operadores que aparecerão  e ver qual é o operador de maior precedência. Aquele que for de maior precedência adicionaremos à expressão primeiro\n",
    "\n",
    "---"
   ]
  },
  {
   "attachments": {},
   "cell_type": "markdown",
   "metadata": {},
   "source": [
    "#### `Algoritmo:` Algoritmo para converter uma expressão infixa em pósfixa:\n",
    "\n",
    "Para cada caracter na expressão infixa:\n",
    "\n",
    "1.  Se o caracter for um operando, coloca-se o caracter na expressão pósfixa\n",
    "2.  Se o caracter for um operador:\n",
    "    - Se a pilha estiver vazia ou a prioridade do operador na expressão infixa for maior que a prioridade do operador no topo da pilha, então o operador deve ser empilhado.\n",
    "    - Se a prioridade do operador no topo da pilha for maior que a prioridade do operador na expressão infixa, então o operador deve ser desempilhado e colocado na expressão posfixa. Enquanto existir operador na pilha, o mesmo deve ser testado"
   ]
  },
  {
   "cell_type": "code",
   "execution_count": 37,
   "metadata": {},
   "outputs": [
    {
     "name": "stdout",
     "output_type": "stream",
     "text": [
      "3\n",
      "4\n",
      "+\n",
      "5\n",
      "6\n",
      "*\n",
      "-\n"
     ]
    }
   ],
   "source": [
    "def retornaTopo(pilha):\n",
    "    \"\"\"\n",
    "    \"Espia\" o topo da pilha, retornando seu elemento e colocando ele no topo da pilha novamente. \\n\n",
    "    Ou seja, a pilha original permanece inalterada\n",
    "    \"\"\"\n",
    "    \n",
    "    x = pop(pilha)\n",
    "    push(pilha, x)\n",
    "    return x\n",
    "\n",
    "def topoPilhaTemPrioridade(notopo, naexpressao):\n",
    "    \"\"\"\n",
    "    Caso o operador que estiver na pilha tiver prioridade sobre o operador da expressão, retorna `True` \\n\n",
    "    Suporta os operadores: +, -, *, /\n",
    "    \"\"\"\n",
    "    \n",
    "    if naexpressao == '+' or naexpressao == '-':    # Se na expressão tivermos + ou - o topo da pilha SEMPRE terá prioridade, pois será * ou / OU será + ou - também \n",
    "                                                    # e, nesse caso, o da pilha também tem prioridade, pois apareceu antes\n",
    "        return True\n",
    "\n",
    "    elif notopo == '*' or notopo == '/':    # Se o programa chegou aqui, então temos na expressão * ou /\n",
    "                                            # Ou seja, o topo da pilha só terá prioridade se for * ou / também, pois apareceu antes. \n",
    "                                            # Caso contrário, se o topo tiver + ou -, não terá prioridade\n",
    "        return True\n",
    "    \n",
    "    else:    # Aqui é onde cobrimos os casos onde o topo da pilha não tem prioridade\n",
    "        return False   \n",
    "\n",
    "def montaPosfixa(infixa):\n",
    "    \"\"\"\n",
    "    Monta uma expressão posfixa com uma expressão infixa. \\n\n",
    "    A expressão infixa é passada como uma `string` e a pósfixa é retornada como uma `pilha` \\n\n",
    "    Suporta os operadores: +, -, *, /\n",
    "    \"\"\"\n",
    "\n",
    "    validos = ['+', '-', '*', '/']\n",
    "    posfixa = []  # Nova pilha para a expressão pósfixa\n",
    "    aux_operadores = []  # Nova pilha auxiliar para colocar os operadores\n",
    "    \n",
    "    for c in infixa:\n",
    "        if c.isdigit():\n",
    "            push(posfixa, c)\n",
    "\n",
    "        elif c in validos:\n",
    "            while not vazia(aux_operadores) and topoPilhaTemPrioridade(notopo=retornaTopo(aux_operadores), naexpressao=c):\n",
    "                push(posfixa, pop(aux_operadores))\n",
    "            \n",
    "            push(aux_operadores, c)\n",
    "        \n",
    "        # Errado - while dentro do for\n",
    "        # while not vazia(aux_operadores):\n",
    "        #     push(posfixa, pop(aux_operadores))\n",
    "    \n",
    "    # Correto - while fora do for\n",
    "    while not vazia(aux_operadores):\n",
    "        push(posfixa, pop(aux_operadores))\n",
    "    \n",
    "    return posfixa\n",
    "        \n",
    "\n",
    "infixa = \"3+4-5*6\"\n",
    "posfixa = montaPosfixa(infixa)\n",
    "\n",
    "mostraPilha(posfixa)"
   ]
  },
  {
   "attachments": {},
   "cell_type": "markdown",
   "metadata": {},
   "source": [
    "Resolução do professor"
   ]
  },
  {
   "cell_type": "code",
   "execution_count": 24,
   "metadata": {},
   "outputs": [
    {
     "name": "stdout",
     "output_type": "stream",
     "text": [
      "infixa: 3+4-5*6  posfixa: ['3', '4', '+', '5', '6', '*', '-']\n",
      "\n",
      "Valor: -23.0\n",
      "\n",
      "Valor: 19.0\n"
     ]
    }
   ],
   "source": [
    "def elementoTopo(p):\n",
    "  x=pop(p)\n",
    "  push(p,x)\n",
    "  return x\n",
    "\n",
    "def prcd(notopo, naexpressao):\n",
    "  # se notopo tiver prioridade sobre naexpressao (quando notopo aparecer a esquerda de naexpressao)\n",
    "  # retorna True\n",
    "  if naexpressao=='+' or naexpressao=='-':\n",
    "    return True\n",
    "  elif notopo=='*' or notopo=='/':\n",
    "    return True\n",
    "  else:\n",
    "    return False\n",
    "\n",
    "\n",
    "def convertePosfixa(infixa,posfixa):\n",
    "  pilha=[]\n",
    "  for crt in infixa:\n",
    "    if crt.isdigit():\n",
    "      posfixa.append(crt)\n",
    "    else:\n",
    "      while not vazia(pilha) and prcd(elementoTopo(pilha),crt):\n",
    "        elemento=pop(pilha)\n",
    "        posfixa.append(elemento)\n",
    "      push(pilha,crt)\n",
    "  \n",
    "  while not vazia(pilha):\n",
    "    elemento=pop(pilha)\n",
    "    posfixa.append(elemento)\n",
    "\n",
    "\n",
    "def calc_posfixa(epos):\n",
    "    pilha = []\n",
    "    for crt in epos:\n",
    "        if crt.isdigit():\n",
    "            push(pilha, float(crt))\n",
    "        else:\n",
    "            b = pop(pilha)  # segundo termo\n",
    "            a = pop(pilha)  # primeiro termo\n",
    "            if crt == '+':\n",
    "                r = a + b\n",
    "            elif crt == '-':\n",
    "                r = a - b\n",
    "            elif crt == '*':\n",
    "                r = a * b\n",
    "            else:\n",
    "                r = a / b\n",
    "            push(pilha, r)\n",
    "\n",
    "    return pop(pilha)\n",
    "\n",
    "inf = \"3+4-5*6\"\n",
    "pos=[]\n",
    "convertePosfixa(inf,pos)\n",
    "print(f'infixa: {inf}  posfixa: {pos}')\n",
    "print('\\nValor:', calc_posfixa(pos))\n",
    "\n",
    "\n",
    "\n",
    "print('\\nValor:', calc_posfixa('328*+'))"
   ]
  },
  {
   "attachments": {},
   "cell_type": "markdown",
   "metadata": {},
   "source": [
    "Usando funções `montaPosfixa` e `calc_posfixa`: <br>\n",
    "Obs: Tive que criar uma função para transformar uma pilha em string, já que eu acabei fazendo o retorno da `montaPosfixa` ser uma pilha e a entrada da função `calc_posfixa` ser uma string... Bom para treinar kkkk"
   ]
  },
  {
   "cell_type": "code",
   "execution_count": 31,
   "metadata": {},
   "outputs": [
    {
     "name": "stdout",
     "output_type": "stream",
     "text": [
      "0\n",
      "1\n",
      "2\n",
      "3\n",
      "4\n",
      "\n",
      "01234\n"
     ]
    }
   ],
   "source": [
    "def pilhaToString(p):\n",
    "    \"\"\"\n",
    "    Transforma uma dada pilha `p` em `string`\n",
    "    \"\"\"\n",
    "    \n",
    "    aux = []  # pilha auxiliar\n",
    "    string = ''\n",
    "    while not vazia(p):\n",
    "        push(aux, pop(p))\n",
    "    \n",
    "    while not vazia(aux):\n",
    "        v = pop(aux)\n",
    "        string += str(v)\n",
    "        push(p, v)\n",
    "\n",
    "    return string\n",
    "\n",
    "p = []\n",
    "for i in range(5):\n",
    "    push(p, i)\n",
    "mostraPilha(p)\n",
    "\n",
    "s = pilhaToString(p)\n",
    "print('\\n', s, sep='')"
   ]
  },
  {
   "cell_type": "code",
   "execution_count": 46,
   "metadata": {},
   "outputs": [
    {
     "name": "stdout",
     "output_type": "stream",
     "text": [
      "Expressão infixa: 7+3*5-4/2 \n",
      "Posfixa e cálculo: 735*+42/- = 20.00\n"
     ]
    }
   ],
   "source": [
    "# O cálculo vai funcionar apenas com os operadores +, -, *, / \n",
    "# pois, apesar da função `calc_posfixa` funcionar com o operador $ \n",
    "# a função `montaPosfixa` não tem suporte a esse operador. \n",
    "# Pode até ser um desafio para treinar depois... Fazer com que a função `montaPosfixa` suporte o operador $\n",
    "\n",
    "# exp = '7+3*5-4/2'  # Resultado: 20\n",
    "exp = input('Entre a expressão infixa: ')\n",
    "\n",
    "pos = montaPosfixa(exp)\n",
    "pos_string = pilhaToString(pos)\n",
    "\n",
    "result = calc_posfixa(pos_string)\n",
    "\n",
    "print(f'Expressão infixa: {exp} \\nPosfixa e cálculo: {pos_string} = {result:.2f}')\n",
    "\n",
    "\n"
   ]
  }
 ],
 "metadata": {
  "kernelspec": {
   "display_name": "Python 3",
   "language": "python",
   "name": "python3"
  },
  "language_info": {
   "codemirror_mode": {
    "name": "ipython",
    "version": 3
   },
   "file_extension": ".py",
   "mimetype": "text/x-python",
   "name": "python",
   "nbconvert_exporter": "python",
   "pygments_lexer": "ipython3",
   "version": "3.10.6"
  },
  "orig_nbformat": 4,
  "vscode": {
   "interpreter": {
    "hash": "9a5507c129a05bfdc77ef541b8cef54ca34be21723ca2ada5f657bc6ecbd397c"
   }
  }
 },
 "nbformat": 4,
 "nbformat_minor": 2
}
