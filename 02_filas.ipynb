{
 "cells": [
  {
   "attachments": {},
   "cell_type": "markdown",
   "metadata": {},
   "source": [
    "> # Filas\n",
    "---"
   ]
  },
  {
   "attachments": {},
   "cell_type": "markdown",
   "metadata": {},
   "source": [
    "É uma estrutura onde elementos são inseridos no final da fila e retirados a partir do início <br>\n",
    "Sua política de acesso de dados é FiFo"
   ]
  },
  {
   "attachments": {},
   "cell_type": "markdown",
   "metadata": {},
   "source": [
    "## Funções primitivas de filas"
   ]
  },
  {
   "cell_type": "code",
   "execution_count": 1,
   "metadata": {},
   "outputs": [],
   "source": [
    "# funcoes primitivas para manipulacao de filas\n",
    "\n",
    "def inserir(f, v):\n",
    "    \"\"\"Tem como função inserir um elemento no final da fila\"\"\"\n",
    "    # f representa a fila (utilizamos uma lista para representar) e v o valor a ser inserido\n",
    "    f.append(v)  # insere um valor no final da lista\n",
    "    \n",
    "\n",
    "def retirar(f):\n",
    "    \"\"\"Tem como objetivo retirar e retornar o elemento do início da fila\"\"\"\n",
    "    return f.pop(0)  # retira um valor do INICIO da lista\n",
    "\n",
    "\n",
    "def vazia_fila(f):\n",
    "    \"\"\"Retorna `True` se a fila estiver vazia, caso contrário retorna `Falso`\"\"\"\n",
    "    return False if f else True"
   ]
  },
  {
   "attachments": {},
   "cell_type": "markdown",
   "metadata": {},
   "source": [
    "## Exercícios"
   ]
  },
  {
   "attachments": {},
   "cell_type": "markdown",
   "metadata": {},
   "source": [
    "Treinando o uso de filas e criando outras funções que serão úteis para trabalhar com essa estrutura de dados. <br>\n",
    "Alguns exercicícios pedirão o uso de pilhas também, por isso já vamos importar as funções de pilhas que criamos nas aulas anteriores"
   ]
  },
  {
   "cell_type": "code",
   "execution_count": 2,
   "metadata": {},
   "outputs": [],
   "source": [
    "from funcoes_pilhas import *"
   ]
  },
  {
   "attachments": {},
   "cell_type": "markdown",
   "metadata": {},
   "source": [
    "### `1.` Criar uma função para mostrar todo o conteúdo de uma fila, na ordem em que os elementos foram inseridos (do primeiro para o último da fila) e mantendo os elementos na fila original"
   ]
  },
  {
   "cell_type": "code",
   "execution_count": 3,
   "metadata": {},
   "outputs": [
    {
     "name": "stdout",
     "output_type": "stream",
     "text": [
      "> 1 2 3 4 5 fim\n"
     ]
    }
   ],
   "source": [
    "def mostraFila(f):\n",
    "    if vazia_fila(f):\n",
    "        print('Fila vazia!')\n",
    "        return\n",
    "    \n",
    "    aux = []  # Meu auxiliar, agora, será uma fila\n",
    "    print('>', end=' ')\n",
    "    while not vazia_fila(f):\n",
    "        v = retirar(f)\n",
    "        print(v, end=' ')\n",
    "        inserir(aux, v)\n",
    "    print('fim')\n",
    "\n",
    "    while not vazia_fila(aux):\n",
    "        inserir(f, retirar(aux))\n",
    "\n",
    "    \n",
    "# Testando\n",
    "fila = []\n",
    "inserir(fila, 1)\n",
    "inserir(fila, 2)\n",
    "inserir(fila, 3)\n",
    "inserir(fila, 4)\n",
    "inserir(fila, 5)\n",
    "mostraFila(fila)"
   ]
  },
  {
   "attachments": {},
   "cell_type": "markdown",
   "metadata": {},
   "source": [
    "### `2.` Escrever uma função para retornar a quantidade de elementos de uma fila"
   ]
  },
  {
   "cell_type": "code",
   "execution_count": 4,
   "metadata": {},
   "outputs": [
    {
     "name": "stdout",
     "output_type": "stream",
     "text": [
      "Quantidade de elementos da fila: 5\n",
      "> 1 2 3 4 5 fim\n"
     ]
    }
   ],
   "source": [
    "def quantidadeFila(f):\n",
    "    \"\"\"Retorna a quantidade de elementos de uma fila\"\"\"\n",
    "\n",
    "    aux = []\n",
    "    cont = 0\n",
    "    while not vazia_fila(f):\n",
    "        v = retirar(f)\n",
    "        cont += 1\n",
    "        inserir(aux, v)\n",
    "    \n",
    "    while not vazia_fila(aux):\n",
    "        inserir(f, retirar(aux))\n",
    "    \n",
    "    return cont\n",
    "\n",
    "\n",
    "# Testando\n",
    "qtd = quantidadeFila(fila)\n",
    "print(f'Quantidade de elementos da fila: {qtd}')\n",
    "mostraFila(fila)"
   ]
  },
  {
   "attachments": {},
   "cell_type": "markdown",
   "metadata": {},
   "source": [
    "### `3.` Escrever uma função para verificar se um elemento está presente ou não em uma fila. Se estiver, retorna `True`, caso contrário, retorna `False`"
   ]
  },
  {
   "cell_type": "code",
   "execution_count": 5,
   "metadata": {},
   "outputs": [
    {
     "name": "stdout",
     "output_type": "stream",
     "text": [
      "> 1 2 3 4 5 fim\n",
      "O elemento 2 está na fila? True\n",
      "> 1 2 3 4 5 fim\n"
     ]
    }
   ],
   "source": [
    "def estaNaFila(f, x):\n",
    "    \"\"\"Testa se um valor `x` está em uma fila `f`. Caso esteja, retorna `True`, caso contrário, retorna `False`\"\"\"\n",
    "    esta = False\n",
    "    aux = []\n",
    "\n",
    "    while not vazia_fila(f):\n",
    "        v = retirar(f)\n",
    "        inserir(aux, v)\n",
    "\n",
    "        if v == x:\n",
    "            esta = True  # não pode dar o break, porque senão na hora de voltar os elementos que foram retirados da fila\n",
    "                         # eles irão para o final e algum elemento do meio passará a ser o primeiro. Ex se tivesse o break:\n",
    "                         # 1 2 3 4 5 -> 3 4 5 1 2\n",
    "        \n",
    "\n",
    "    while not vazia_fila(aux):\n",
    "        inserir(f, retirar(aux))\n",
    "\n",
    "    return esta\n",
    "\n",
    "mostraFila(fila)\n",
    "x = 2\n",
    "\n",
    "print(f'O elemento {x} está na fila? {estaNaFila(fila, 2)}')\n",
    "mostraFila(fila)\n"
   ]
  },
  {
   "attachments": {},
   "cell_type": "markdown",
   "metadata": {},
   "source": [
    "##### Outra forma:\n",
    "Pense bem: o que acontece se eu retirar vários elementos da fila e retorná-los para a mesma fila, na ordem em que foram retirados? A ordem dos elementos da fila será alterada? <br>\n",
    "A resposta é não! <br>\n",
    "Usando pilhas, sempre que tiramos e retornamos elementos de uma pilha sua ordem é invertida.\n",
    "Já na fila, se retirarmos e retornarmos um elemento para a mesma fila, ele será retirado do início e colocado no fim. A ordem dos elementos não será alterada, o que vai acontecer é que o primeiro da fila vai mudar. <br>\n",
    "É só pensar em uma fila de verdade: O que acontece se o primeiro da fila sair e for para o final, e o segundo fizer o mesmo, e o terceiro... A ordem da fila vai se alterar? Não, mas o primeiro da fila irá mudar. <br>\n",
    "E nessa situação, como fazemos com que o primeiro da fila volte a ser o que era antes? <br> \n",
    "Teremos que dar uma \"volta completa\" na fila, passar por todos os seus elementos. Ou seja, ao retirar o primeiro da fila e colocá-lo no final n vezes, sendo n o número total de pessoas da fila, aquele que era o primeiro voltará a ser o primeiro <br>\n",
    "Voltando à nossa estrutura de dados fila, concluímos que se retirarmos os elementos de uma fila e os inserirmos novamente na mesma fila, fazendo isso o mesmo número de vezes que o tamanho da fila, voltaremos à fila original e ainda conseguiremos iterar elemento por elemento da fila. <br>\n",
    "E como no item 2 construímos uma função para contar quantos elementos temos em uma fila, isso é possível\n"
   ]
  },
  {
   "cell_type": "code",
   "execution_count": 6,
   "metadata": {},
   "outputs": [
    {
     "name": "stdout",
     "output_type": "stream",
     "text": [
      "> 1 2 3 4 5 fim\n",
      "O elemento 2 está na fila? True\n",
      "> 1 2 3 4 5 fim\n"
     ]
    }
   ],
   "source": [
    "\"\"\"Exemplo de código usando a função quantidadeFila() e sem usar uma fila auxiliar\"\"\"\n",
    "\n",
    "def estaNaFila(f, x):\n",
    "    esta = False\n",
    "    \n",
    "    for _ in range(quantidadeFila(f)):\n",
    "        v = retirar(f)\n",
    "        if v == x:\n",
    "            esta = True\n",
    "        inserir(f, v)\n",
    "\n",
    "    return esta\n",
    "\n",
    "mostraFila(fila)\n",
    "x = 2\n",
    "print(f'O elemento {x} está na fila? {estaNaFila(fila, 2)}')\n",
    "mostraFila(fila)"
   ]
  },
  {
   "attachments": {},
   "cell_type": "markdown",
   "metadata": {},
   "source": [
    "### `4.` Com o auxílio de uma pilha, escrever uma função para inverter o conteúdo de uma fila"
   ]
  },
  {
   "cell_type": "code",
   "execution_count": 7,
   "metadata": {},
   "outputs": [
    {
     "name": "stdout",
     "output_type": "stream",
     "text": [
      "> 1 2 3 4 5 fim\n",
      "Invertendo fila...\n",
      "> 5 4 3 2 1 fim\n"
     ]
    }
   ],
   "source": [
    "def inverteFila(f):\n",
    "    \"\"\"Inverte o conteúdo de uma fila, usando uma pilha como estrutura de dados auxiliar\"\"\"\n",
    "\n",
    "    p_aux = [] # Meu auxliar será uma pilha\n",
    "    \n",
    "    while not vazia_fila(f):\n",
    "        v = retirar(f)\n",
    "        push(p_aux, v)  # Os valores serão invertidos: Na base o primeiro valor da fila e no topo o último valor\n",
    "    \n",
    "    while not vazia(p_aux):\n",
    "        inserir(f, pop(p_aux))  # Ao dar o pop, pegaremos os elementos do topo da pilha, ou seja, na ordem inversa que estavam na fila\n",
    "                                # E, como na fila o primeiro que entra é o primeiro que sai, estaremos invertendo a fila sem maiores complicações4\n",
    "\n",
    "    print('Invertendo fila...')\n",
    "\n",
    "# Testando\n",
    "mostraFila(fila)\n",
    "inverteFila(fila)\n",
    "mostraFila(fila)\n"
   ]
  },
  {
   "attachments": {},
   "cell_type": "markdown",
   "metadata": {},
   "source": [
    "### `5.` Escrever uma função para retirar um dado elemento de uma fila. Caso o elemento não esteja presente na fila, mostrar uma mensagem para o usuário"
   ]
  },
  {
   "cell_type": "code",
   "execution_count": 8,
   "metadata": {},
   "outputs": [
    {
     "name": "stdout",
     "output_type": "stream",
     "text": [
      "> 5 4 3 2 1 fim\n",
      "> 5 4 2 1 fim\n"
     ]
    }
   ],
   "source": [
    "def retiraEspecifico(f, x):\n",
    "    \"\"\"\n",
    "    Retira um elemento específico `x` da fila `f`, que será passado como parâmetro da minha função\n",
    "    Todas as aparições do elemento passado serão removidas\n",
    "    \"\"\"\n",
    "\n",
    "    if not estaNaFila(f, x):\n",
    "        print(f'O elemento {x} não está na fila passada para a função')\n",
    "\n",
    "    aux = []\n",
    "    while not vazia_fila(f):\n",
    "        v = retirar(f)\n",
    "        if v != x:\n",
    "           inserir(aux, v)\n",
    "\n",
    "    while not vazia_fila(aux):\n",
    "        inserir(f, retirar(aux))\n",
    "\n",
    "\n",
    "mostraFila(fila) \n",
    "retiraEspecifico(fila, 3)\n",
    "mostraFila(fila)\n"
   ]
  },
  {
   "attachments": {},
   "cell_type": "markdown",
   "metadata": {},
   "source": [
    "### `6.` Escrever uma função em python para percorrer uma fila de números inteiros, encontrar e mostrar:\n",
    "+ Maior elemento da fila\n",
    "+ Menor elemento da fila\n",
    "+ Média aritmética dos elementos da fila"
   ]
  },
  {
   "cell_type": "code",
   "execution_count": 9,
   "metadata": {},
   "outputs": [
    {
     "name": "stdout",
     "output_type": "stream",
     "text": [
      "> 5 4 2 1 fim\n",
      "Maior elemento: 5\n",
      "Menor elemento: 1\n",
      "Média aritmética dos elementos: 3.0\n"
     ]
    }
   ],
   "source": [
    "def analisa_fila(f):\n",
    "    \"\"\"Analisa uma fila `f` com números e printa o maior elemento, o menor elemento e a média aritmética dos elementos\"\"\"\n",
    "\n",
    "    aux = []\n",
    "    maior = float(\"-inf\")\n",
    "    menor = float(\"+inf\")\n",
    "    soma = 0\n",
    "    cont = 0  \n",
    "    while not vazia_fila(f):\n",
    "        v = retirar(f)\n",
    "        # if cont == 0:  # Outra forma de inicializar as variáveis maior e menor\n",
    "        #     maior = v\n",
    "        #     menor = v\n",
    "        cont += 1\n",
    "        if v > maior:\n",
    "            maior = v\n",
    "        if v < menor:\n",
    "            menor = v\n",
    "        soma += v\n",
    "        inserir(aux, v)\n",
    "\n",
    "    while not vazia_fila(aux):\n",
    "        inserir(f, retirar(aux))\n",
    "\n",
    "    print(f'Maior elemento: {maior}')\n",
    "    print(f'Menor elemento: {menor}')\n",
    "    media = soma / cont\n",
    "    print(f'Média aritmética dos elementos: {media}')\n",
    "\n",
    "mostraFila(fila)\n",
    "analisa_fila(fila)"
   ]
  },
  {
   "attachments": {},
   "cell_type": "markdown",
   "metadata": {},
   "source": [
    "### `7.` Escrever outras funções para inserir e retirar elementos de uma fila para que a fila tenha o comportamento de uma pilha. Utilizar as funções primitivas para a manipulação de filas para o desenvolvimento do exercício"
   ]
  },
  {
   "cell_type": "code",
   "execution_count": 10,
   "metadata": {},
   "outputs": [
    {
     "name": "stdout",
     "output_type": "stream",
     "text": [
      "O fim da fila será o topo da pilha\n",
      "> 2 4 6 8 fim\n",
      "\n",
      "Número retirado: 8; fila:\n",
      "> 2 4 6 fim\n",
      "Número retirado: 6; fila:\n",
      "> 2 4 fim\n",
      "Número inserido na fila\n",
      "> 2 4 10 fim\n",
      "Número retirado: 10; fila:\n",
      "> 2 4 fim\n",
      "Número retirado: 4; fila:\n",
      "> 2 fim\n"
     ]
    }
   ],
   "source": [
    "# Não será necessário alterar a função inserir, pois farei com que o final da minha fila seja o topo da minha pilha\n",
    "# Por outro lado, terei que escrever outra função retirar para que ela retire o ultimo elemento da fila\n",
    "\n",
    "def simula_push(f, v):\n",
    "    inserir(f, v)\n",
    "\n",
    "def simula_pop(f):  # Basicamente, será uma função para retornar o último elemento de uma fila\n",
    "    aux = []  # Fila auxiliar\n",
    "    while True:\n",
    "        v = retirar(f)\n",
    "        if vazia_fila(f):   # Se eu retirei o elemento e a fila estiver vazia, quer dizer que ele era o último\n",
    "            break           # Saio e não insiro o valor na fila auxiliar\n",
    "        inserir(aux, v)\n",
    "\n",
    "    while not vazia_fila(aux):  # Retorna os elementos para a fila original, menos o último\n",
    "        inserir(f, retirar(aux))\n",
    "    \n",
    "    return v  # Retorna aquele que era o último valor da fila original\n",
    "    \n",
    "print('O fim da fila será o topo da pilha')\n",
    "fila = []\n",
    "simula_push(fila, 2)\n",
    "simula_push(fila, 4)\n",
    "simula_push(fila, 6)\n",
    "simula_push(fila, 8)\n",
    "mostraFila(fila)\n",
    "\n",
    "print()\n",
    "\n",
    "x = simula_pop(fila)\n",
    "print(f'Número retirado: {x}; fila:')\n",
    "mostraFila(fila)\n",
    "\n",
    "x = simula_pop(fila)\n",
    "print(f'Número retirado: {x}; fila:')\n",
    "mostraFila(fila)\n",
    "\n",
    "print('Número inserido na fila')\n",
    "simula_push(fila, 10)\n",
    "mostraFila(fila)\n",
    "\n",
    "x = simula_pop(fila)\n",
    "print(f'Número retirado: {x}; fila:')\n",
    "mostraFila(fila)\n",
    "\n",
    "x = simula_pop(fila)\n",
    "print(f'Número retirado: {x}; fila:')\n",
    "mostraFila(fila)"
   ]
  }
 ],
 "metadata": {
  "kernelspec": {
   "display_name": "Python 3",
   "language": "python",
   "name": "python3"
  },
  "language_info": {
   "codemirror_mode": {
    "name": "ipython",
    "version": 3
   },
   "file_extension": ".py",
   "mimetype": "text/x-python",
   "name": "python",
   "nbconvert_exporter": "python",
   "pygments_lexer": "ipython3",
   "version": "3.10.6"
  },
  "orig_nbformat": 4,
  "vscode": {
   "interpreter": {
    "hash": "9a5507c129a05bfdc77ef541b8cef54ca34be21723ca2ada5f657bc6ecbd397c"
   }
  }
 },
 "nbformat": 4,
 "nbformat_minor": 2
}
