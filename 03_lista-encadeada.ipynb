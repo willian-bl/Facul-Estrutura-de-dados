{
 "cells": [
  {
   "attachments": {},
   "cell_type": "markdown",
   "metadata": {},
   "source": [
    "> # Lista encadeada\n",
    "---"
   ]
  },
  {
   "attachments": {},
   "cell_type": "markdown",
   "metadata": {},
   "source": [
    "## Detalhes das listas encadeadas:"
   ]
  },
  {
   "attachments": {},
   "cell_type": "markdown",
   "metadata": {},
   "source": [
    "- A **inserção** de elementos pode ocorrer de qualquer parte da lista: no início, entre elementos ou no fim da lista\n",
    "- A **remoção** de elementos pode ocorrer de qualquer parte da lista: no início, entre elementos ou no fim da lista\n",
    "\n",
    "- Cada elemento da lista é chamado de **nó**. Um nó carrega o **dado** em si que queremos guardar (em nossos códigos, chamaremos de informação ou `info`) e o endereço do próximo nó (chamaremos de `proximo`).\n",
    "    - Sabemos que um dado nó é o último nó da lista caso ele não possua nenhum endereço em `proximo` apontando para outro nó\n",
    "\n",
    "- A lista precisa ter um ponto de entrada ou referência. Para acessar a lista, precisamos conhecer esse ponto de referência, que referencia o primeiro elemento da lista. Iremos nomear esse ponto de entrada de `início`. Assim, o único atributo que a variável do tipo lista encadeada possui é o `início`, que contém o endereço do primeiro nó.\n",
    "    - Sabemos que uma lista encadeada está vazia se o ponteiro `inicio` não estiver apontando para nenhum nó\n",
    "\n",
    "- \"Fisicamente\" os dados não precisam estar armazenados na ordem correta, pois cada elemento carrega consigo o endereço do próximo elemento, por isso dizemos que ela é uma estrutura com uma **ordem lógica**. Ou seja, na memória os dados podem ter qualquer posição, pois serão os endereços que os nós carregam que vão nos guiar pela ordem da lista\n",
    "\n",
    "- Na lista encadeada, mesmo possuindo uma ordem, não conseguimos pegar diretamente elementos do meio da lista (como em uma lista python, por exemplo, usando índices). Para pegar algum elemento do meio da lista devemos iterar pelos elementos até encontrar o que estamos procurando\n",
    "\n",
    "- Uma coisa que percebemos na lista encadeada é que manipulamos ponteiros e referências de nós em seus métodos e funções, mas o endereço em si não nos interessa, apenas as operações que estamos fazendo com ele (não precisamos, necessariamente, de saber que um determinado nó x está em certo endereço y. Isso é transparente para nós, apenas manipulamos esse endereço e acessamos os nós com ele)\n",
    "\n",
    "- Sempre que quisermos comparar um elemento da lista com o próximo elemento teremos que andar com 2 ponteiros, fazendo a comparação e, caso ela não seja satisfeita, passar o valor de `q` para `p` e `q` receberá o próximo nó da lista. Exemplo:\n",
    "\n",
    "```\n",
    "p = lista_encadeada.inicio\n",
    "q = p\n",
    "while q and \"Teste da condição com q. Ex: q < x\":\n",
    "    p = q\n",
    "    q = q.getProximo()\n",
    "```"
   ]
  },
  {
   "attachments": {},
   "cell_type": "markdown",
   "metadata": {},
   "source": [
    "## Criando uma classe para as listas encadeadas"
   ]
  },
  {
   "attachments": {},
   "cell_type": "markdown",
   "metadata": {},
   "source": [
    "A classe das listas encadeadas que criamos está no arquivo [ListaEncadeada.py](./ListaEncadeada.py) por questões de organização e para reutilizar o código em outros projetos"
   ]
  },
  {
   "cell_type": "code",
   "execution_count": 6,
   "metadata": {},
   "outputs": [],
   "source": [
    "from ListaEncadeada import *"
   ]
  },
  {
   "attachments": {},
   "cell_type": "markdown",
   "metadata": {},
   "source": [
    "### Testes"
   ]
  },
  {
   "cell_type": "code",
   "execution_count": 25,
   "metadata": {},
   "outputs": [
    {
     "name": "stdout",
     "output_type": "stream",
     "text": [
      "Mostra 1: \n",
      "Valores dos nós: 102 20 50 10 \n",
      "Tamanho da lista: 4\n",
      "Tamanho da lista: 2\n",
      "Mostra 1: \n",
      "Valores dos nós: 20 50 \n"
     ]
    }
   ],
   "source": [
    "lista1 = ListaLigada()  # Criando uma lista vazia - Instanciando objeto da classe ListaLigada\n",
    "lista1.insereInicio(50)\n",
    "lista1.insereInicio(20)\n",
    "lista1.insereInicio(102)\n",
    "lista1.insereUltimo(10)\n",
    "print(f'Mostra 1: ')\n",
    "lista1.mostraLista()\n",
    "\n",
    "lista1.contaNoLista()\n",
    "lista1.removeInicio()\n",
    "lista1.removeUltimo()\n",
    "lista1.contaNoLista()\n",
    "print(f'Mostra 1: ')\n",
    "lista1.mostraLista()\n"
   ]
  },
  {
   "cell_type": "code",
   "execution_count": 28,
   "metadata": {},
   "outputs": [
    {
     "name": "stdout",
     "output_type": "stream",
     "text": [
      "Valores dos nós: 1 20 50 \n",
      "Valores dos nós: 1 15 20 50 \n",
      "Valores dos nós: 1 15 50 \n"
     ]
    },
    {
     "data": {
      "text/plain": [
       "False"
      ]
     },
     "execution_count": 28,
     "metadata": {},
     "output_type": "execute_result"
    }
   ],
   "source": [
    "lista2 = ListaLigada()\n",
    "lista2.insereUltimo(1)\n",
    "lista2.insereUltimo(20)\n",
    "lista2.insereUltimo(50)\n",
    "lista2.mostraLista()\n",
    "\n",
    "primeiro_no = lista2.inicio\n",
    "lista2.insereDepois(primeiro_no, 15)\n",
    "lista2.mostraLista()\n",
    "\n",
    "segundo_no = primeiro_no.getProximo()\n",
    "lista2.removeDepois(segundo_no)\n",
    "lista2.mostraLista()\n",
    "\n",
    "lista2.existeElemento(20)"
   ]
  },
  {
   "cell_type": "code",
   "execution_count": 30,
   "metadata": {},
   "outputs": [
    {
     "name": "stdout",
     "output_type": "stream",
     "text": [
      "Valores dos nós: 1 10 20 30 50 \n",
      "Valores dos nós: 1 10 30 50 \n"
     ]
    }
   ],
   "source": [
    "lista3=ListaLigada()\n",
    "lista3.insereOrdenado(20)\n",
    "lista3.insereOrdenado(10)\n",
    "lista3.insereOrdenado(30)\n",
    "lista3.insereOrdenado(50)\n",
    "lista3.insereOrdenado(1)\n",
    "lista3.mostraLista()\n",
    "\n",
    "lista3.removeOrdenado(20)\n",
    "lista3.mostraLista()"
   ]
  }
 ],
 "metadata": {
  "kernelspec": {
   "display_name": "Python 3",
   "language": "python",
   "name": "python3"
  },
  "language_info": {
   "codemirror_mode": {
    "name": "ipython",
    "version": 3
   },
   "file_extension": ".py",
   "mimetype": "text/x-python",
   "name": "python",
   "nbconvert_exporter": "python",
   "pygments_lexer": "ipython3",
   "version": "3.10.6"
  },
  "orig_nbformat": 4
 },
 "nbformat": 4,
 "nbformat_minor": 2
}
