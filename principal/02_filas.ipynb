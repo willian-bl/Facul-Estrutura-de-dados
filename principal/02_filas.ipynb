{
 "cells": [
  {
   "attachments": {},
   "cell_type": "markdown",
   "metadata": {},
   "source": [
    "> # Filas\n",
    "---"
   ]
  },
  {
   "attachments": {},
   "cell_type": "markdown",
   "metadata": {},
   "source": [
    "É uma estrutura onde elementos são inseridos no final da fila e retirados a partir do início <br>\n",
    "Sua política de acesso de dados é FiFo"
   ]
  },
  {
   "attachments": {},
   "cell_type": "markdown",
   "metadata": {},
   "source": [
    "## Funções primitivas de filas"
   ]
  },
  {
   "cell_type": "code",
   "execution_count": 1,
   "metadata": {},
   "outputs": [],
   "source": [
    "# funcoes primitivas para manipulacao de filas\n",
    "\n",
    "def inserir(f, v):\n",
    "    \"\"\"Tem como função inserir um elemento no final da fila\"\"\"\n",
    "    # f representa a fila (utilizamos uma lista para representar) e v o valor a ser inserido\n",
    "    f.append(v)  # insere um valor no final da lista\n",
    "    \n",
    "\n",
    "def retirar(f):\n",
    "    \"\"\"Tem como objetivo retirar e retornar o elemento do início da fila\"\"\"\n",
    "    return f.pop(0)  # retira um valor do INICIO da lista\n",
    "\n",
    "\n",
    "def vazia_fila(f):\n",
    "    \"\"\"Retorna `True` se a fila estiver vazia, caso contrário retorna `Falso`\"\"\"\n",
    "    return False if f else True"
   ]
  },
  {
   "attachments": {},
   "cell_type": "markdown",
   "metadata": {},
   "source": [
    "## Exercícios"
   ]
  },
  {
   "attachments": {},
   "cell_type": "markdown",
   "metadata": {},
   "source": [
    "Treinando o uso de filas e criando outras funções que serão úteis para trabalhar com essa estrutura de dados. <br>\n",
    "Alguns exercicícios pedirão o uso de pilhas também, por isso já vamos importar as funções de pilhas que criamos nas aulas anteriores"
   ]
  },
  {
   "cell_type": "code",
   "execution_count": 1,
   "metadata": {},
   "outputs": [],
   "source": [
    "import sys\n",
    "sys.path.append('..')  # Adiciona a pasta pai ao caminho de pesquisa de módulos, já que o arquivo com as funções está na pasta raiz do repositório\n",
    "\n",
    "from funcoes_pilhas import *"
   ]
  },
  {
   "attachments": {},
   "cell_type": "markdown",
   "metadata": {},
   "source": [
    "### `1.` Criar uma função para mostrar todo o conteúdo de uma fila, na ordem em que os elementos foram inseridos (do primeiro para o último da fila) e mantendo os elementos na fila original"
   ]
  },
  {
   "cell_type": "code",
   "execution_count": 3,
   "metadata": {},
   "outputs": [
    {
     "name": "stdout",
     "output_type": "stream",
     "text": [
      "> 1 2 3 4 5 fim\n"
     ]
    }
   ],
   "source": [
    "def mostraFila(f):\n",
    "    if vazia_fila(f):\n",
    "        print('Fila vazia!')\n",
    "        return\n",
    "    \n",
    "    aux = []  # Meu auxiliar, agora, será uma fila\n",
    "    print('>', end=' ')\n",
    "    while not vazia_fila(f):\n",
    "        v = retirar(f)\n",
    "        print(v, end=' ')\n",
    "        inserir(aux, v)\n",
    "    print('fim')\n",
    "\n",
    "    while not vazia_fila(aux):\n",
    "        inserir(f, retirar(aux))\n",
    "\n",
    "    \n",
    "# Testando\n",
    "fila = []\n",
    "inserir(fila, 1)\n",
    "inserir(fila, 2)\n",
    "inserir(fila, 3)\n",
    "inserir(fila, 4)\n",
    "inserir(fila, 5)\n",
    "mostraFila(fila)"
   ]
  },
  {
   "attachments": {},
   "cell_type": "markdown",
   "metadata": {},
   "source": [
    "### `2.` Escrever uma função para retornar a quantidade de elementos de uma fila"
   ]
  },
  {
   "cell_type": "code",
   "execution_count": 4,
   "metadata": {},
   "outputs": [
    {
     "name": "stdout",
     "output_type": "stream",
     "text": [
      "Quantidade de elementos da fila: 5\n",
      "> 1 2 3 4 5 fim\n"
     ]
    }
   ],
   "source": [
    "def quantidadeFila(f):\n",
    "    \"\"\"Retorna a quantidade de elementos de uma fila\"\"\"\n",
    "\n",
    "    aux = []\n",
    "    cont = 0\n",
    "    while not vazia_fila(f):\n",
    "        v = retirar(f)\n",
    "        cont += 1\n",
    "        inserir(aux, v)\n",
    "    \n",
    "    while not vazia_fila(aux):\n",
    "        inserir(f, retirar(aux))\n",
    "    \n",
    "    return cont\n",
    "\n",
    "\n",
    "# Testando\n",
    "qtd = quantidadeFila(fila)\n",
    "print(f'Quantidade de elementos da fila: {qtd}')\n",
    "mostraFila(fila)"
   ]
  },
  {
   "attachments": {},
   "cell_type": "markdown",
   "metadata": {},
   "source": [
    "### `3.` Escrever uma função para verificar se um elemento está presente ou não em uma fila. Se estiver, retorna `True`, caso contrário, retorna `False`"
   ]
  },
  {
   "cell_type": "code",
   "execution_count": 5,
   "metadata": {},
   "outputs": [
    {
     "name": "stdout",
     "output_type": "stream",
     "text": [
      "> 1 2 3 4 5 fim\n",
      "O elemento 2 está na fila? True\n",
      "> 1 2 3 4 5 fim\n"
     ]
    }
   ],
   "source": [
    "def estaNaFila(f, x):\n",
    "    \"\"\"Testa se um valor `x` está em uma fila `f`. Caso esteja, retorna `True`, caso contrário, retorna `False`\"\"\"\n",
    "    esta = False\n",
    "    aux = []\n",
    "\n",
    "    while not vazia_fila(f):\n",
    "        v = retirar(f)\n",
    "        inserir(aux, v)\n",
    "\n",
    "        if v == x:\n",
    "            esta = True  # não pode dar o break, porque senão na hora de voltar os elementos que foram retirados da fila\n",
    "                         # eles irão para o final e algum elemento do meio passará a ser o primeiro. Ex se tivesse o break:\n",
    "                         # 1 2 3 4 5 -> 3 4 5 1 2\n",
    "        \n",
    "\n",
    "    while not vazia_fila(aux):\n",
    "        inserir(f, retirar(aux))\n",
    "\n",
    "    return esta\n",
    "\n",
    "mostraFila(fila)\n",
    "x = 2\n",
    "\n",
    "print(f'O elemento {x} está na fila? {estaNaFila(fila, 2)}')\n",
    "mostraFila(fila)\n"
   ]
  },
  {
   "attachments": {},
   "cell_type": "markdown",
   "metadata": {},
   "source": [
    "##### Outra forma:\n",
    "Pense bem: o que acontece se eu retirar vários elementos da fila e retorná-los para a mesma fila, na ordem em que foram retirados? A ordem dos elementos da fila será alterada? <br>\n",
    "A resposta é não! <br>\n",
    "Usando pilhas, sempre que tiramos e retornamos elementos de uma pilha sua ordem é invertida.\n",
    "Já na fila, se retirarmos e retornarmos um elemento para a mesma fila, ele será retirado do início e colocado no fim. A ordem dos elementos não será alterada, o que vai acontecer é que o primeiro da fila vai mudar. <br>\n",
    "É só pensar em uma fila de verdade: O que acontece se o primeiro da fila sair e for para o final, e o segundo fizer o mesmo, e o terceiro... A ordem da fila vai se alterar? Não, mas o primeiro da fila irá mudar. <br>\n",
    "E nessa situação, como fazemos com que o primeiro da fila volte a ser o que era antes? <br> \n",
    "Teremos que dar uma \"volta completa\" na fila, passar por todos os seus elementos. Ou seja, ao retirar o primeiro da fila e colocá-lo no final n vezes, sendo n o número total de pessoas da fila, aquele que era o primeiro voltará a ser o primeiro <br>\n",
    "Voltando à nossa estrutura de dados fila, concluímos que se retirarmos os elementos de uma fila e os inserirmos novamente na mesma fila, fazendo isso o mesmo número de vezes que o tamanho da fila, voltaremos à fila original e ainda conseguiremos iterar elemento por elemento da fila. <br>\n",
    "E como no item 2 construímos uma função para contar quantos elementos temos em uma fila, isso é possível\n"
   ]
  },
  {
   "cell_type": "code",
   "execution_count": 6,
   "metadata": {},
   "outputs": [
    {
     "name": "stdout",
     "output_type": "stream",
     "text": [
      "> 1 2 3 4 5 fim\n",
      "O elemento 2 está na fila? True\n",
      "> 1 2 3 4 5 fim\n"
     ]
    }
   ],
   "source": [
    "\"\"\"Exemplo de código usando a função quantidadeFila() e sem usar uma fila auxiliar\"\"\"\n",
    "\n",
    "def estaNaFila(f, x):\n",
    "    esta = False\n",
    "    \n",
    "    for _ in range(quantidadeFila(f)):\n",
    "        v = retirar(f)\n",
    "        if v == x:\n",
    "            esta = True\n",
    "        inserir(f, v)\n",
    "\n",
    "    return esta\n",
    "\n",
    "mostraFila(fila)\n",
    "x = 2\n",
    "print(f'O elemento {x} está na fila? {estaNaFila(fila, 2)}')\n",
    "mostraFila(fila)"
   ]
  },
  {
   "attachments": {},
   "cell_type": "markdown",
   "metadata": {},
   "source": [
    "### `4.` Com o auxílio de uma pilha, escrever uma função para inverter o conteúdo de uma fila"
   ]
  },
  {
   "cell_type": "code",
   "execution_count": 7,
   "metadata": {},
   "outputs": [
    {
     "name": "stdout",
     "output_type": "stream",
     "text": [
      "> 1 2 3 4 5 fim\n",
      "Invertendo fila...\n",
      "> 5 4 3 2 1 fim\n"
     ]
    }
   ],
   "source": [
    "def inverteFila(f):\n",
    "    \"\"\"Inverte o conteúdo de uma fila, usando uma pilha como estrutura de dados auxiliar\"\"\"\n",
    "\n",
    "    p_aux = [] # Meu auxliar será uma pilha\n",
    "    \n",
    "    while not vazia_fila(f):\n",
    "        v = retirar(f)\n",
    "        push(p_aux, v)  # Os valores serão invertidos: Na base o primeiro valor da fila e no topo o último valor\n",
    "    \n",
    "    while not vazia(p_aux):\n",
    "        inserir(f, pop(p_aux))  # Ao dar o pop, pegaremos os elementos do topo da pilha, ou seja, na ordem inversa que estavam na fila\n",
    "                                # E, como na fila o primeiro que entra é o primeiro que sai, estaremos invertendo a fila sem maiores complicações4\n",
    "\n",
    "    print('Invertendo fila...')\n",
    "\n",
    "# Testando\n",
    "mostraFila(fila)\n",
    "inverteFila(fila)\n",
    "mostraFila(fila)\n"
   ]
  },
  {
   "attachments": {},
   "cell_type": "markdown",
   "metadata": {},
   "source": [
    "### `5.` Escrever uma função para retirar um dado elemento de uma fila. Caso o elemento não esteja presente na fila, mostrar uma mensagem para o usuário"
   ]
  },
  {
   "cell_type": "code",
   "execution_count": 8,
   "metadata": {},
   "outputs": [
    {
     "name": "stdout",
     "output_type": "stream",
     "text": [
      "> 5 4 3 2 1 fim\n",
      "> 5 4 2 1 fim\n"
     ]
    }
   ],
   "source": [
    "def retiraEspecifico(f, x):\n",
    "    \"\"\"\n",
    "    Retira um elemento específico `x` da fila `f`, que será passado como parâmetro da minha função\n",
    "    Todas as aparições do elemento passado serão removidas\n",
    "    \"\"\"\n",
    "\n",
    "    if not estaNaFila(f, x):\n",
    "        print(f'O elemento {x} não está na fila passada para a função')\n",
    "\n",
    "    aux = []\n",
    "    while not vazia_fila(f):\n",
    "        v = retirar(f)\n",
    "        if v != x:\n",
    "           inserir(aux, v)\n",
    "\n",
    "    while not vazia_fila(aux):\n",
    "        inserir(f, retirar(aux))\n",
    "\n",
    "\n",
    "mostraFila(fila) \n",
    "retiraEspecifico(fila, 3)\n",
    "mostraFila(fila)\n"
   ]
  },
  {
   "attachments": {},
   "cell_type": "markdown",
   "metadata": {},
   "source": [
    "### `6.` Escrever uma função em python para percorrer uma fila de números inteiros, encontrar e mostrar:\n",
    "+ Maior elemento da fila\n",
    "+ Menor elemento da fila\n",
    "+ Média aritmética dos elementos da fila"
   ]
  },
  {
   "cell_type": "code",
   "execution_count": 9,
   "metadata": {},
   "outputs": [
    {
     "name": "stdout",
     "output_type": "stream",
     "text": [
      "> 5 4 2 1 fim\n",
      "Maior elemento: 5\n",
      "Menor elemento: 1\n",
      "Média aritmética dos elementos: 3.0\n"
     ]
    }
   ],
   "source": [
    "def analisa_fila(f):\n",
    "    \"\"\"Analisa uma fila `f` com números e printa o maior elemento, o menor elemento e a média aritmética dos elementos\"\"\"\n",
    "\n",
    "    aux = []\n",
    "    maior = float(\"-inf\")\n",
    "    menor = float(\"+inf\")\n",
    "    soma = 0\n",
    "    cont = 0  \n",
    "    while not vazia_fila(f):\n",
    "        v = retirar(f)\n",
    "        # if cont == 0:  # Outra forma de inicializar as variáveis maior e menor\n",
    "        #     maior = v\n",
    "        #     menor = v\n",
    "        cont += 1\n",
    "        if v > maior:\n",
    "            maior = v\n",
    "        if v < menor:\n",
    "            menor = v\n",
    "        soma += v\n",
    "        inserir(aux, v)\n",
    "\n",
    "    while not vazia_fila(aux):\n",
    "        inserir(f, retirar(aux))\n",
    "\n",
    "    print(f'Maior elemento: {maior}')\n",
    "    print(f'Menor elemento: {menor}')\n",
    "    media = soma / cont\n",
    "    print(f'Média aritmética dos elementos: {media}')\n",
    "\n",
    "mostraFila(fila)\n",
    "analisa_fila(fila)"
   ]
  },
  {
   "attachments": {},
   "cell_type": "markdown",
   "metadata": {},
   "source": [
    "### `7.` Escrever outras funções para inserir e retirar elementos de uma fila para que a fila tenha o comportamento de uma pilha. Utilizar as funções primitivas para a manipulação de filas para o desenvolvimento do exercício"
   ]
  },
  {
   "cell_type": "code",
   "execution_count": 10,
   "metadata": {},
   "outputs": [
    {
     "name": "stdout",
     "output_type": "stream",
     "text": [
      "O fim da fila será o topo da pilha\n",
      "> 2 4 6 8 fim\n",
      "\n",
      "Número retirado: 8; fila:\n",
      "> 2 4 6 fim\n",
      "Número retirado: 6; fila:\n",
      "> 2 4 fim\n",
      "Número inserido na fila\n",
      "> 2 4 10 fim\n",
      "Número retirado: 10; fila:\n",
      "> 2 4 fim\n",
      "Número retirado: 4; fila:\n",
      "> 2 fim\n"
     ]
    }
   ],
   "source": [
    "# Não será necessário alterar a função inserir, pois farei com que o final da minha fila seja o topo da minha pilha\n",
    "# Por outro lado, terei que escrever outra função retirar para que ela retire o ultimo elemento da fila\n",
    "\n",
    "def simula_push(f, v):\n",
    "    inserir(f, v)\n",
    "\n",
    "def simula_pop(f):  # Basicamente, será uma função para retornar o último elemento de uma fila\n",
    "    aux = []  # Fila auxiliar\n",
    "    while True:\n",
    "        v = retirar(f)\n",
    "        if vazia_fila(f):   # Se eu retirei o elemento e a fila estiver vazia, quer dizer que ele era o último\n",
    "            break           # Saio e não insiro o valor na fila auxiliar\n",
    "        inserir(aux, v)\n",
    "\n",
    "    while not vazia_fila(aux):  # Retorna os elementos para a fila original, menos o último\n",
    "        inserir(f, retirar(aux))\n",
    "    \n",
    "    return v  # Retorna aquele que era o último valor da fila original\n",
    "    \n",
    "print('O fim da fila será o topo da pilha')\n",
    "fila = []\n",
    "simula_push(fila, 2)\n",
    "simula_push(fila, 4)\n",
    "simula_push(fila, 6)\n",
    "simula_push(fila, 8)\n",
    "mostraFila(fila)\n",
    "\n",
    "print()\n",
    "\n",
    "x = simula_pop(fila)\n",
    "print(f'Número retirado: {x}; fila:')\n",
    "mostraFila(fila)\n",
    "\n",
    "x = simula_pop(fila)\n",
    "print(f'Número retirado: {x}; fila:')\n",
    "mostraFila(fila)\n",
    "\n",
    "print('Número inserido na fila')\n",
    "simula_push(fila, 10)\n",
    "mostraFila(fila)\n",
    "\n",
    "x = simula_pop(fila)\n",
    "print(f'Número retirado: {x}; fila:')\n",
    "mostraFila(fila)\n",
    "\n",
    "x = simula_pop(fila)\n",
    "print(f'Número retirado: {x}; fila:')\n",
    "mostraFila(fila)"
   ]
  },
  {
   "cell_type": "code",
   "execution_count": 11,
   "metadata": {},
   "outputs": [],
   "source": [
    "# Resolução do professor para o simula_pop():\n",
    "\n",
    "def popFilaComoPilha (f):\n",
    "    aux=[]\n",
    "\n",
    "    while not vazia_fila(f):\n",
    "        v = retirar(f)\n",
    "        inserir(aux,v)\n",
    "\n",
    "    while not vazia_fila(aux):\n",
    "        v = retirar(aux)\n",
    "        if not vazia_fila(aux):\n",
    "            inserir(f,v)\n",
    "        else:           # Se retirou e ficou vazia, então é o último elemento.\n",
    "            return v    # Não põe ele de volta na fila, mas sim retorna ele"
   ]
  },
  {
   "attachments": {},
   "cell_type": "markdown",
   "metadata": {},
   "source": [
    "### `8.` Escrever funções que simulam o comportamento de fila com a utilização de pilhas"
   ]
  },
  {
   "cell_type": "code",
   "execution_count": 12,
   "metadata": {},
   "outputs": [
    {
     "name": "stdout",
     "output_type": "stream",
     "text": [
      "O topo da pilha será o fim da fila e a base da pilha será o início da fila\n",
      "Topo: \n",
      "9\n",
      "7\n",
      "5\n",
      "3\n",
      "1\n",
      "\n",
      "Número retirado: 1; pilha:\n",
      "Topo: \n",
      "9\n",
      "7\n",
      "5\n",
      "3\n",
      "Número retirado: 3; pilha:\n",
      "Topo: \n",
      "9\n",
      "7\n",
      "5\n",
      "Número inserido na fila\n",
      "Topo: \n",
      "10\n",
      "9\n",
      "7\n",
      "5\n",
      "Número inserido na fila\n",
      "Topo: \n",
      "11\n",
      "10\n",
      "9\n",
      "7\n",
      "5\n",
      "Número retirado: 5; pilha:\n",
      "Topo: \n",
      "11\n",
      "10\n",
      "9\n",
      "7\n"
     ]
    }
   ],
   "source": [
    "# Não será necessário alterar a função push, pois farei com que o topo da minha pilha seja o final da minha fila\n",
    "# Por outro lado, terei que escrever outra função pop para que ela retire o primeiro elemento que foi inserido na pilha (para que a pilha se comporte como uma fila)\n",
    "# Ou seja, tenho que retirar o elemento da base da pilha\n",
    "\n",
    "def simula_inserir(p, v):\n",
    "    push(p, v)\n",
    "\n",
    "\n",
    "# Basicamente, será uma função que retira o primeiro elemento de uma pilha\n",
    "# já fizemos uma função parecida nos exercícios de pilha, é a função retiraPrimeiro()\n",
    "# Ver exercício 03 do material 01_pilhas.ipynb \n",
    "def simula_retirar(p): \n",
    "    aux = []  # Pilha auxiliar\n",
    "    while True:\n",
    "        v = pop(p)\n",
    "        if vazia(p):    # Se eu retirar um elemento da pilha e ela ficar vazia, significa que esse era o último elemento\n",
    "            break       # Saio e não insiro o valor na pilha auxiliar\n",
    "        \n",
    "        push(aux, v)\n",
    "     \n",
    "    while not vazia(aux):\n",
    "        push(p, pop(aux))\n",
    "\n",
    "    return v\n",
    "\n",
    "\n",
    "print('O topo da pilha será o fim da fila e a base da pilha será o início da fila')\n",
    "pilha = []\n",
    "simula_inserir(pilha, 1)\n",
    "simula_inserir(pilha, 3)\n",
    "simula_inserir(pilha, 5)\n",
    "simula_inserir(pilha, 7)\n",
    "simula_inserir(pilha, 9)\n",
    "mostraPilha(pilha)\n",
    "\n",
    "print()\n",
    "\n",
    "x = simula_retirar(pilha)\n",
    "print(f'Número retirado: {x}; pilha:')\n",
    "mostraPilha(pilha)\n",
    "\n",
    "x = simula_retirar(pilha)\n",
    "print(f'Número retirado: {x}; pilha:')\n",
    "mostraPilha(pilha)\n",
    "\n",
    "print('Número inserido na fila')\n",
    "simula_inserir(pilha, 10)\n",
    "mostraPilha(pilha)\n",
    "\n",
    "print('Número inserido na fila')\n",
    "simula_inserir(pilha, 11)\n",
    "mostraPilha(pilha)\n",
    "\n",
    "x = simula_retirar(pilha)\n",
    "print(f'Número retirado: {x}; pilha:')\n",
    "mostraPilha(pilha)"
   ]
  },
  {
   "attachments": {},
   "cell_type": "markdown",
   "metadata": {},
   "source": [
    "### `9.` Escrever uma função denominada de `fura_fila` para inserir um elemento em uma posição qualquer de uma fila\n",
    "        Obs: Será passado para a função o elemento para realizar a inserção e a posição desse elemento na fila"
   ]
  },
  {
   "cell_type": "code",
   "execution_count": 13,
   "metadata": {},
   "outputs": [
    {
     "name": "stdout",
     "output_type": "stream",
     "text": [
      "> 0 1 2 3 4 fim\n",
      "\n",
      "Furando a fila na posição 3 com o valor 7\n",
      "> 0 1 2 7 3 4 fim\n",
      "\n",
      "Furando a fila na posição 6 com o valor 10\n",
      "> 0 1 2 7 3 4 10 fim\n"
     ]
    }
   ],
   "source": [
    "# Farei minha função com a primeira posição da fila sendo a posição 0 \n",
    "\n",
    "def fura_fila(fila, valor, pos):\n",
    "    \"\"\"\n",
    "    Insere um elemento `valor` na posição `pos` da `fila` \\n\n",
    "    O primeiro elemento da fila é o de index `0` \\n\n",
    "    Caso o número passado como posição `pos` seja inválido, a fila não sofrerá nenhuma alteração\n",
    "    \"\"\" \n",
    "\n",
    "    fila_aux = []\n",
    "    cont = 0  # Se o contador começar com 1, o primeiro elemento será o de posição 1, e não posição 0\n",
    "    \n",
    "    while not vazia_fila(fila):\n",
    "        if cont == pos:\n",
    "            inserir(fila_aux, valor)\n",
    "\n",
    "        inserir(fila_aux, retirar(fila))\n",
    "        cont += 1\n",
    "    \n",
    "    if cont == pos:  # Caso eu queira inserir na última posição ou caso a fila esteja vazia, ele não vai entrar no primeiro while\n",
    "        inserir(fila_aux, valor)\n",
    "    \n",
    "    while not vazia_fila(fila_aux):\n",
    "        inserir(fila, retirar(fila_aux))\n",
    "\n",
    "fila = []\n",
    "inserir(fila, 0)\n",
    "inserir(fila, 1)\n",
    "inserir(fila, 2)\n",
    "inserir(fila, 3)\n",
    "inserir(fila, 4)\n",
    "mostraFila(fila)\n",
    "\n",
    "x = 7\n",
    "pos = 3\n",
    "print(f'\\nFurando a fila na posição {pos} com o valor {x}')\n",
    "fura_fila(fila, valor=x, pos=pos)\n",
    "mostraFila(fila)\n",
    "\n",
    "x = 10\n",
    "pos = 6\n",
    "print(f'\\nFurando a fila na posição {pos} com o valor {x}')\n",
    "fura_fila(fila, valor=x, pos=pos)\n",
    "mostraFila(fila)\n"
   ]
  },
  {
   "cell_type": "code",
   "execution_count": 15,
   "metadata": {},
   "outputs": [
    {
     "name": "stdout",
     "output_type": "stream",
     "text": [
      "Fila de tamanho par:\n",
      "> 10 20 30 40 50 60 70 80 fim\n",
      "Intercalando fila...\n",
      "> 10 50 20 60 30 70 40 80 fim\n",
      "\n",
      "Fila de tamanho ímpar:\n",
      "> 10 20 30 40 50 60 70 80 90 fim\n",
      "Intercalando fila...\n",
      "> 10 60 20 70 30 80 40 90 50 fim\n"
     ]
    }
   ],
   "source": [
    "# Testes do exercício para intercalar filas\n",
    "\"\"\"\n",
    "Utilizando as funções primitivas para manipulação de filas, escrever uma função em\n",
    "python para intercalar os elementos da primeira metade de uma fila com os \n",
    "elementos da segunda metade da mesma fila.\n",
    "\"\"\"\n",
    "\n",
    "def intercala_fila(f):\n",
    "    metade1 = []  # Fila auxiliar da primeira metade\n",
    "    metade2 = []  # Fila auxiliar da segunda metade\n",
    "\n",
    "    tam_fila = quantidadeFila(f)\n",
    "    \n",
    "    if tam_fila % 2 == 0:\n",
    "        metade = tam_fila / 2\n",
    "    else:\n",
    "        metade = tam_fila // 2 + 1  # Caso a fila tenha um número ímpar de elementos, a metade1 será maior (terá um elemento a mais)\n",
    "                                    \n",
    "    cont = 1\n",
    "    while not vazia_fila(f):\n",
    "        v = retirar(f)\n",
    "        if cont <= metade:   \n",
    "            inserir(metade1, v)\n",
    "        else:\n",
    "            inserir(metade2, v)\n",
    "        cont += 1\n",
    "    \n",
    "    for i in range(tam_fila):  \n",
    "        if i % 2 == 0 or vazia_fila(metade2):   # Se for par, adiciona valor da metade1; Também adiciona se os valores de metade2 tiverem acabado. Se isso acontecer, quer dizer que\n",
    "            inserir(f, retirar(metade1))        # A fila tem tamanho ímpar, está na última iteração e falta um elemento de metade1 para ser intercalado.\n",
    "        elif not vazia_fila(metade2):           # Caso a fila seja de tamanho par, o último elemento estará em metade2, ele vai entrar no elif na última iteração e o código vai sair do for.\n",
    "            inserir(f, retirar(metade2))\n",
    "\n",
    "\n",
    "print('Fila de tamanho par:')\n",
    "fila = []\n",
    "for i in range(1, 9):\n",
    "    inserir(fila, i*10)\n",
    "mostraFila(fila)\n",
    "\n",
    "print('Intercalando fila...')\n",
    "intercala_fila(fila)\n",
    "mostraFila(fila)\n",
    "\n",
    "print('\\nFila de tamanho ímpar:')\n",
    "fila = []\n",
    "for i in range(1, 10):\n",
    "    inserir(fila, i*10)\n",
    "mostraFila(fila)\n",
    "\n",
    "print('Intercalando fila...')\n",
    "intercala_fila(fila)\n",
    "mostraFila(fila)"
   ]
  }
 ],
 "metadata": {
  "kernelspec": {
   "display_name": "Python 3",
   "language": "python",
   "name": "python3"
  },
  "language_info": {
   "codemirror_mode": {
    "name": "ipython",
    "version": 3
   },
   "file_extension": ".py",
   "mimetype": "text/x-python",
   "name": "python",
   "nbconvert_exporter": "python",
   "pygments_lexer": "ipython3",
   "version": "3.10.6"
  },
  "orig_nbformat": 4,
  "vscode": {
   "interpreter": {
    "hash": "9a5507c129a05bfdc77ef541b8cef54ca34be21723ca2ada5f657bc6ecbd397c"
   }
  }
 },
 "nbformat": 4,
 "nbformat_minor": 2
}
